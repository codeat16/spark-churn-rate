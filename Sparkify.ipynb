{
 "cells": [
  {
   "cell_type": "markdown",
   "metadata": {},
   "source": [
    "# Sparkify Project Workspace\n",
    "This workspace contains a tiny subset (128MB) of the full dataset available (12GB). Feel free to use this workspace to build your project, or to explore a smaller subset with Spark before deploying your cluster on the cloud. Instructions for setting up your Spark cluster is included in the last lesson of the Extracurricular Spark Course content.\n",
    "\n",
    "You can follow the steps below to guide your data analysis and model building portion of this project."
   ]
  },
  {
   "cell_type": "code",
   "execution_count": 4,
   "metadata": {},
   "outputs": [],
   "source": [
    "# import libraries\n",
    "from pyspark.sql import SparkSession\n",
    "from pyspark.sql.functions import col,sum\n",
    "from collections import defaultdict\n",
    "import pyspark.sql.functions as func\n",
    "\n",
    "from pyspark.ml.feature import VectorAssembler\n",
    "from pyspark.ml.tuning import ParamGridBuilder, CrossValidator\n",
    "from pyspark.ml.evaluation import BinaryClassificationEvaluator, MulticlassClassificationEvaluator\n",
    "from pyspark.mllib.evaluation import MulticlassMetrics\n",
    "from pyspark.ml.classification import DecisionTreeClassifier, RandomForestClassifier, GBTClassifier\n",
    "\n",
    "import matplotlib.pyplot as plt\n",
    "import numpy as np\n",
    "%matplotlib inline"
   ]
  },
  {
   "cell_type": "code",
   "execution_count": 5,
   "metadata": {},
   "outputs": [],
   "source": [
    "# create a Spark session\n",
    "sp = SparkSession.builder.appName('Sparkify').getOrCreate()"
   ]
  },
  {
   "cell_type": "markdown",
   "metadata": {},
   "source": [
    "# Load and Clean Dataset\n",
    "In this workspace, the mini-dataset file is `mini_sparkify_event_data.json`. Load and clean the dataset, checking for invalid or missing data - for example, records without userids or sessionids. \n",
    "\n",
    "### Load dataset"
   ]
  },
  {
   "cell_type": "code",
   "execution_count": 6,
   "metadata": {},
   "outputs": [],
   "source": [
    "df = sp.read.json('mini_sparkify_event_data.json')"
   ]
  },
  {
   "cell_type": "markdown",
   "metadata": {},
   "source": [
    "### Check for duplicates in the Data Frame"
   ]
  },
  {
   "cell_type": "code",
   "execution_count": 7,
   "metadata": {},
   "outputs": [
    {
     "data": {
      "text/plain": [
       "286500"
      ]
     },
     "execution_count": 7,
     "metadata": {},
     "output_type": "execute_result"
    }
   ],
   "source": [
    "df.count()"
   ]
  },
  {
   "cell_type": "code",
   "execution_count": 8,
   "metadata": {},
   "outputs": [
    {
     "data": {
      "text/plain": [
       "286500"
      ]
     },
     "execution_count": 8,
     "metadata": {},
     "output_type": "execute_result"
    }
   ],
   "source": [
    "df.dropDuplicates().count()"
   ]
  },
  {
   "cell_type": "markdown",
   "metadata": {},
   "source": [
    "Since the count is the same before and after dropping duplicate, it implies there is no duplicate in the Data Frame."
   ]
  },
  {
   "cell_type": "markdown",
   "metadata": {},
   "source": [
    "### Check for missing values\n",
    "\n",
    "Two ways of checking missing values are presented.\n",
    "\n",
    "First, by looking at descriptive statistics of the data frame. The 'count' statistics will filter out null values, leave us only the values that is not null. Compare that number to the total count, we know how many values are present for each columns, and hence how many values are missing in each column."
   ]
  },
  {
   "cell_type": "markdown",
   "metadata": {},
   "source": [
    "Now take a look at some sample rows of data."
   ]
  },
  {
   "cell_type": "code",
   "execution_count": 9,
   "metadata": {},
   "outputs": [
    {
     "name": "stdout",
     "output_type": "stream",
     "text": [
      "+-------+------------------+----------+---------+------+------------------+--------+-----------------+------+-----------------+------+-------+--------------------+-----------------+--------------------+------------------+--------------------+--------------------+-----------------+\n",
      "|summary|            artist|      auth|firstName|gender|     itemInSession|lastName|           length| level|         location|method|   page|        registration|        sessionId|                song|            status|                  ts|           userAgent|           userId|\n",
      "+-------+------------------+----------+---------+------+------------------+--------+-----------------+------+-----------------+------+-------+--------------------+-----------------+--------------------+------------------+--------------------+--------------------+-----------------+\n",
      "|  count|            228108|    286500|   278154|278154|            286500|  278154|           228108|286500|           278154|286500| 286500|              278154|           286500|              228108|            286500|              286500|              278154|           286500|\n",
      "|   mean| 551.0852017937219|      null|     null|  null|114.41421291448516|    null|249.1171819778458|  null|             null|  null|   null|1.535358834084427...|1041.526554973822|            Infinity|210.05459685863875|1.540956889810483...|                null|59682.02278593872|\n",
      "| stddev|1217.7693079161374|      null|     null|  null|129.76726201140994|    null|99.23517921058361|  null|             null|  null|   null| 3.291321616327586E9|726.7762634630741|                 NaN| 31.50507848842214|1.5075439608226302E9|                null|109091.9499991047|\n",
      "|    min|               !!!| Cancelled| Adelaida|     F|                 0|   Adams|          0.78322|  free|       Albany, OR|   GET|  About|       1521380675000|                1|\u001c",
      "ÃÂg ÃÂtti Gr...|               200|       1538352117000|\"Mozilla/5.0 (Mac...|                 |\n",
      "|    max| ÃÂlafur Arnalds|Logged Out|   Zyonna|     M|              1321|  Wright|       3024.66567|  paid|Winston-Salem, NC|   PUT|Upgrade|       1543247354000|             2474|ÃÂau hafa slopp...|               404|       1543799476000|Mozilla/5.0 (comp...|               99|\n",
      "+-------+------------------+----------+---------+------+------------------+--------+-----------------+------+-----------------+------+-------+--------------------+-----------------+--------------------+------------------+--------------------+--------------------+-----------------+\n",
      "\n"
     ]
    }
   ],
   "source": [
    "df.describe().show()"
   ]
  },
  {
   "cell_type": "code",
   "execution_count": 10,
   "metadata": {},
   "outputs": [],
   "source": [
    "\"\"\"\n",
    "+-------+------------------+----------+---------+------+------------------+--------+-----------------+------+-----------------+------+-------+--------------------+-----------------+--------------------+------------------+--------------------+--------------------+-----------------+\n",
    "|summary|            artist|      auth|firstName|gender|     itemInSession|lastName|           length| level|         location|method|   page|        registration|        sessionId|                song|            status|                  ts|           userAgent|           userId|\n",
    "+-------+------------------+----------+---------+------+------------------+--------+-----------------+------+-----------------+------+-------+--------------------+-----------------+--------------------+------------------+--------------------+--------------------+-----------------+\n",
    "|  count|            228108|    286500|   278154|278154|            286500|  278154|           228108|286500|           278154|286500| 286500|              278154|           286500|              228108|            286500|              286500|              278154|           286500|\n",
    "|   mean| 551.0852017937219|      null|     null|  null|114.41421291448516|    null|249.1171819778458|  null|             null|  null|   null|1.535358834084427...|1041.526554973822|            Infinity|210.05459685863875|1.540956889810483...|                null|59682.02278593872|\n",
    "| stddev|1217.7693079161374|      null|     null|  null|129.76726201140994|    null|99.23517921058361|  null|             null|  null|   null| 3.291321616327586E9|726.7762634630741|                 NaN| 31.50507848842214|1.5075439608226302E9|                null|109091.9499991047|\n",
    "|    min|               !!!| Cancelled| Adelaida|     F|                 0|   Adams|          0.78322|  free|       Albany, OR|   GET|  About|       1521380675000|                1|\u001c",
    "ÃÂg ÃÂtti Gr...|               200|       1538352117000|\"Mozilla/5.0 (Mac...|                 |\n",
    "|    max| ÃÂlafur Arnalds|Logged Out|   Zyonna|     M|              1321|  Wright|       3024.66567|  paid|Winston-Salem, NC|   PUT|Upgrade|       1543247354000|             2474|ÃÂau hafa slopp...|               404|       1543799476000|Mozilla/5.0 (comp...|               99|\n",
    "+-------+------------------+----------+---------+------+------------------+--------+-----------------+------+-----------------+------+-------+--------------------+-----------------+--------------------+------------------+--------------------+--------------------+-----------------+\n",
    "\"\"\";"
   ]
  },
  {
   "cell_type": "markdown",
   "metadata": {},
   "source": [
    "Any column whose count is not 286500, has some missing values. For example, 'artist', 'gender' have missing values. 'auth' does not have missing values.\n",
    "\n",
    "Second way to look for missing values is to use sql query function, specicially, the `isNull` function that will tell us whether a particular cell's value is null. Convert the True or False value into integer and get the sum, and will give us numbers of missing values directly."
   ]
  },
  {
   "cell_type": "code",
   "execution_count": 11,
   "metadata": {},
   "outputs": [
    {
     "name": "stdout",
     "output_type": "stream",
     "text": [
      "artist is missing 58392 values.\n",
      "auth is missing 0 values.\n",
      "firstName is missing 8346 values.\n",
      "gender is missing 8346 values.\n",
      "itemInSession is missing 0 values.\n",
      "lastName is missing 8346 values.\n",
      "length is missing 58392 values.\n",
      "level is missing 0 values.\n",
      "location is missing 8346 values.\n",
      "method is missing 0 values.\n",
      "page is missing 0 values.\n",
      "registration is missing 8346 values.\n",
      "sessionId is missing 0 values.\n",
      "song is missing 58392 values.\n",
      "status is missing 0 values.\n",
      "ts is missing 0 values.\n",
      "userAgent is missing 8346 values.\n",
      "userId is missing 0 values.\n"
     ]
    }
   ],
   "source": [
    "def print_missing_values():\n",
    "    missing_values_dict = df.select(*(sum(col(c).isNull().cast(\"int\")).alias(c) for c in df.columns)).first().asDict()\n",
    "    for k, v in missing_values_dict.items():\n",
    "        print('{} is missing {} values.'.format(k, v))\n",
    "    return missing_values_dict\n",
    "\n",
    "missing_values_dict = print_missing_values()"
   ]
  },
  {
   "cell_type": "markdown",
   "metadata": {},
   "source": [
    "Observe that missing values appear to have grouping effect, e.g., several coumns likely all missed values at the same time. As their missing values counts are exactly the same. We can group them together to provide us more insight."
   ]
  },
  {
   "cell_type": "code",
   "execution_count": 12,
   "metadata": {},
   "outputs": [
    {
     "name": "stdout",
     "output_type": "stream",
     "text": [
      "58392 missing values: ['artist', 'length', 'song']\n",
      "0 missing values: ['auth', 'itemInSession', 'level', 'method', 'page', 'sessionId', 'status', 'ts', 'userId']\n",
      "8346 missing values: ['firstName', 'gender', 'lastName', 'location', 'registration', 'userAgent']\n"
     ]
    }
   ],
   "source": [
    "def print_missing_values_group(missing_values_dict):\n",
    "    value_to_key = defaultdict(list)\n",
    "    for k, v in missing_values_dict.items():\n",
    "        value_to_key[v].append(k)\n",
    "\n",
    "    for v, ks in value_to_key.items():\n",
    "        print('{} missing values: {}'.format(v, ks))\n",
    "\n",
    "print_missing_values_group(missing_values_dict)"
   ]
  },
  {
   "cell_type": "markdown",
   "metadata": {},
   "source": [
    "We found there are three types of columns in terms of missing values:\n",
    "1. The group does not miss any value. This groups includes 'userId', sessionId'\n",
    "2. The group that miss name info, likely about the users.\n",
    "3. The group that miss info about the song.\n",
    "\n",
    "At this moment, we do not know whether missing these values have a material effect on the features we are looking for or not. Hence we decided not to drop of any missing values. Leave the decision to later when we have more understandings on the data.\n"
   ]
  },
  {
   "cell_type": "code",
   "execution_count": 13,
   "metadata": {},
   "outputs": [],
   "source": [
    "# drop all null\n",
    "#df.na.drop()\n",
    "#df.na.drop(['firstName'])"
   ]
  },
  {
   "cell_type": "markdown",
   "metadata": {},
   "source": [
    "# Exploratory Data Analysis\n",
    "When you're working with the full dataset, perform EDA by loading a small subset of the data and doing basic manipulations within Spark. In this workspace, you are already provided a small subset of data you can explore.\n",
    "\n",
    "### Define Churn\n",
    "\n",
    "Once you've done some preliminary analysis, create a column `Churn` to use as the label for your model. I suggest using the `Cancellation Confirmation` events to define your churn, which happen for both paid and free users. As a bonus task, you can also look into the `Downgrade` events.\n",
    "\n",
    "### Explore Data\n",
    "Once you've defined churn, perform some exploratory data analysis to observe the behavior for users who stayed vs users who churned. You can start by exploring aggregates on these two groups of users, observing how much of a specific action they experienced per a certain time unit or number of songs played."
   ]
  },
  {
   "cell_type": "code",
   "execution_count": 14,
   "metadata": {},
   "outputs": [
    {
     "name": "stdout",
     "output_type": "stream",
     "text": [
      "+----------------+---------+---------+------+-------------+--------+---------+-----+--------------------+------+--------+-------------+---------+--------------------+------+-------------+--------------------+------+\n",
      "|          artist|     auth|firstName|gender|itemInSession|lastName|   length|level|            location|method|    page| registration|sessionId|                song|status|           ts|           userAgent|userId|\n",
      "+----------------+---------+---------+------+-------------+--------+---------+-----+--------------------+------+--------+-------------+---------+--------------------+------+-------------+--------------------+------+\n",
      "|  Martha Tilston|Logged In|    Colin|     M|           50| Freeman|277.89016| paid|     Bakersfield, CA|   PUT|NextSong|1538173362000|       29|           Rockpools|   200|1538352117000|Mozilla/5.0 (Wind...|    30|\n",
      "|Five Iron Frenzy|Logged In|    Micah|     M|           79|    Long|236.09424| free|Boston-Cambridge-...|   PUT|NextSong|1538331630000|        8|              Canada|   200|1538352180000|\"Mozilla/5.0 (Win...|     9|\n",
      "|    Adam Lambert|Logged In|    Colin|     M|           51| Freeman| 282.8273| paid|     Bakersfield, CA|   PUT|NextSong|1538173362000|       29|   Time For Miracles|   200|1538352394000|Mozilla/5.0 (Wind...|    30|\n",
      "|          Enigma|Logged In|    Micah|     M|           80|    Long|262.71302| free|Boston-Cambridge-...|   PUT|NextSong|1538331630000|        8|Knocking On Forbi...|   200|1538352416000|\"Mozilla/5.0 (Win...|     9|\n",
      "|       Daft Punk|Logged In|    Colin|     M|           52| Freeman|223.60771| paid|     Bakersfield, CA|   PUT|NextSong|1538173362000|       29|Harder Better Fas...|   200|1538352676000|Mozilla/5.0 (Wind...|    30|\n",
      "+----------------+---------+---------+------+-------------+--------+---------+-----+--------------------+------+--------+-------------+---------+--------------------+------+-------------+--------------------+------+\n",
      "only showing top 5 rows\n",
      "\n"
     ]
    }
   ],
   "source": [
    "df.show(5)"
   ]
  },
  {
   "cell_type": "code",
   "execution_count": 15,
   "metadata": {},
   "outputs": [],
   "source": [
    "'''\n",
    "+----------------+---------+---------+------+-------------+--------+---------+-----+--------------------+------+--------+-------------+---------+--------------------+------+-------------+--------------------+------+\n",
    "|          artist|     auth|firstName|gender|itemInSession|lastName|   length|level|            location|method|    page| registration|sessionId|                song|status|           ts|           userAgent|userId|\n",
    "+----------------+---------+---------+------+-------------+--------+---------+-----+--------------------+------+--------+-------------+---------+--------------------+------+-------------+--------------------+------+\n",
    "|  Martha Tilston|Logged In|    Colin|     M|           50| Freeman|277.89016| paid|     Bakersfield, CA|   PUT|NextSong|1538173362000|       29|           Rockpools|   200|1538352117000|Mozilla/5.0 (Wind...|    30|\n",
    "|Five Iron Frenzy|Logged In|    Micah|     M|           79|    Long|236.09424| free|Boston-Cambridge-...|   PUT|NextSong|1538331630000|        8|              Canada|   200|1538352180000|\"Mozilla/5.0 (Win...|     9|\n",
    "|    Adam Lambert|Logged In|    Colin|     M|           51| Freeman| 282.8273| paid|     Bakersfield, CA|   PUT|NextSong|1538173362000|       29|   Time For Miracles|   200|1538352394000|Mozilla/5.0 (Wind...|    30|\n",
    "|          Enigma|Logged In|    Micah|     M|           80|    Long|262.71302| free|Boston-Cambridge-...|   PUT|NextSong|1538331630000|        8|Knocking On Forbi...|   200|1538352416000|\"Mozilla/5.0 (Win...|     9|\n",
    "|       Daft Punk|Logged In|    Colin|     M|           52| Freeman|223.60771| paid|     Bakersfield, CA|   PUT|NextSong|1538173362000|       29|Harder Better Fas...|   200|1538352676000|Mozilla/5.0 (Wind...|    30|\n",
    "+----------------+---------+---------+------+-------------+--------+---------+-----+--------------------+------+--------+-------------+---------+--------------------+------+-------------+--------------------+------+\n",
    "only showing top 5 rows\n",
    "''';"
   ]
  },
  {
   "cell_type": "markdown",
   "metadata": {},
   "source": [
    "Through offline grep operation, 'Cancellation Confirmation' is one type of pages. We filter some page with type of 'Cancellation Confirmation' as below."
   ]
  },
  {
   "cell_type": "code",
   "execution_count": 16,
   "metadata": {},
   "outputs": [
    {
     "name": "stdout",
     "output_type": "stream",
     "text": [
      "+------+---------+---------+------+-------------+--------+------+-----+--------------------+------+--------------------+-------------+---------+----+------+-------------+--------------------+------+\n",
      "|artist|     auth|firstName|gender|itemInSession|lastName|length|level|            location|method|                page| registration|sessionId|song|status|           ts|           userAgent|userId|\n",
      "+------+---------+---------+------+-------------+--------+------+-----+--------------------+------+--------------------+-------------+---------+----+------+-------------+--------------------+------+\n",
      "|  null|Cancelled|   Adriel|     M|          104| Mendoza|  null| paid|  Kansas City, MO-KS|   GET|Cancellation Conf...|1535623466000|      514|null|   200|1538943990000|\"Mozilla/5.0 (Mac...|    18|\n",
      "|  null|Cancelled|    Diego|     M|           56|   Mckee|  null| paid|Phoenix-Mesa-Scot...|   GET|Cancellation Conf...|1537167593000|      540|null|   200|1539033046000|\"Mozilla/5.0 (iPh...|    32|\n",
      "|  null|Cancelled|    Mason|     M|           10|    Hart|  null| free|  Corpus Christi, TX|   GET|Cancellation Conf...|1533157139000|      174|null|   200|1539318918000|\"Mozilla/5.0 (Mac...|   125|\n",
      "|  null|Cancelled|Alexander|     M|          332|  Garcia|  null| paid|Indianapolis-Carm...|   GET|Cancellation Conf...|1536817381000|      508|null|   200|1539375441000|Mozilla/5.0 (Wind...|   105|\n",
      "|  null|Cancelled|    Kayla|     F|          273| Johnson|  null| paid|Philadelphia-Camd...|   GET|Cancellation Conf...|1538333829000|      797|null|   200|1539465584000|Mozilla/5.0 (Wind...|    17|\n",
      "+------+---------+---------+------+-------------+--------+------+-----+--------------------+------+--------------------+-------------+---------+----+------+-------------+--------------------+------+\n",
      "only showing top 5 rows\n",
      "\n"
     ]
    }
   ],
   "source": [
    "df.filter(\"page = 'Cancellation Confirmation'\").show(5)"
   ]
  },
  {
   "cell_type": "code",
   "execution_count": 17,
   "metadata": {},
   "outputs": [
    {
     "data": {
      "text/plain": [
       "52"
      ]
     },
     "execution_count": 17,
     "metadata": {},
     "output_type": "execute_result"
    }
   ],
   "source": [
    "df.filter(\"page = 'Cancellation Confirmation'\").count()"
   ]
  },
  {
   "cell_type": "markdown",
   "metadata": {},
   "source": [
    "There are total of 52 'Cancellation Confirmation' page in this mini dataset."
   ]
  },
  {
   "cell_type": "code",
   "execution_count": 18,
   "metadata": {},
   "outputs": [
    {
     "data": {
      "text/plain": [
       "2055"
      ]
     },
     "execution_count": 18,
     "metadata": {},
     "output_type": "execute_result"
    }
   ],
   "source": [
    "df.filter(\"page = 'Downgrade'\").count()"
   ]
  },
  {
   "cell_type": "markdown",
   "metadata": {},
   "source": [
    "There are total of 2055 'Downgrade' page in this mini dataset.\n",
    "\n",
    "Observing the sample data, the dataset appears to be browsing history of users. In other words, the dataset contains activities of each user interacting with the software.\n",
    "\n",
    "Inituitively, it makes sense to take each user as an unit for researching.\n",
    "\n",
    "Look at a few sample users and manually observe their behavior."
   ]
  },
  {
   "cell_type": "code",
   "execution_count": 19,
   "metadata": {},
   "outputs": [
    {
     "name": "stdout",
     "output_type": "stream",
     "text": [
      "+--------------------+---------+---------+------+-------------+--------+---------+-----+--------------------+------+-----------+-------------+---------+--------------------+------+-------------+--------------------+------+\n",
      "|              artist|     auth|firstName|gender|itemInSession|lastName|   length|level|            location|method|       page| registration|sessionId|                song|status|           ts|           userAgent|userId|\n",
      "+--------------------+---------+---------+------+-------------+--------+---------+-----+--------------------+------+-----------+-------------+---------+--------------------+------+-------------+--------------------+------+\n",
      "|    Five Iron Frenzy|Logged In|    Micah|     M|           79|    Long|236.09424| free|Boston-Cambridge-...|   PUT|   NextSong|1538331630000|        8|              Canada|   200|1538352180000|\"Mozilla/5.0 (Win...|     9|\n",
      "|              Enigma|Logged In|    Micah|     M|           80|    Long|262.71302| free|Boston-Cambridge-...|   PUT|   NextSong|1538331630000|        8|Knocking On Forbi...|   200|1538352416000|\"Mozilla/5.0 (Win...|     9|\n",
      "|The All-American ...|Logged In|    Micah|     M|           81|    Long|208.29995| free|Boston-Cambridge-...|   PUT|   NextSong|1538331630000|        8|      Don't Leave Me|   200|1538352678000|\"Mozilla/5.0 (Win...|     9|\n",
      "|The Velvet Underg...|Logged In|    Micah|     M|           82|    Long|260.46649| free|Boston-Cambridge-...|   PUT|   NextSong|1538331630000|        8|         Run Run Run|   200|1538352886000|\"Mozilla/5.0 (Win...|     9|\n",
      "|        Britt Nicole|Logged In|    Micah|     M|           83|    Long| 229.8771| free|Boston-Cambridge-...|   PUT|   NextSong|1538331630000|        8|   Walk On The Water|   200|1538353146000|\"Mozilla/5.0 (Win...|     9|\n",
      "|                null|Logged In|    Micah|     M|           84|    Long|     null| free|Boston-Cambridge-...|   GET|Roll Advert|1538331630000|        8|                null|   200|1538353150000|\"Mozilla/5.0 (Win...|     9|\n",
      "|               Tesla|Logged In|    Micah|     M|           85|    Long|201.06404| free|Boston-Cambridge-...|   PUT|   NextSong|1538331630000|        8|      Gettin' Better|   200|1538353375000|\"Mozilla/5.0 (Win...|     9|\n",
      "|                null|Logged In|    Micah|     M|           86|    Long|     null| free|Boston-Cambridge-...|   PUT|  Thumbs Up|1538331630000|        8|                null|   307|1538353376000|\"Mozilla/5.0 (Win...|     9|\n",
      "|Florence + The Ma...|Logged In|    Micah|     M|           87|    Long|168.64608| free|Boston-Cambridge-...|   PUT|   NextSong|1538331630000|        8| You've Got The Love|   200|1538353576000|\"Mozilla/5.0 (Win...|     9|\n",
      "|             Ratatat|Logged In|    Micah|     M|           88|    Long|229.77261| free|Boston-Cambridge-...|   PUT|   NextSong|1538331630000|        8|              Swisha|   200|1538353744000|\"Mozilla/5.0 (Win...|     9|\n",
      "|   MÃÂ¶tley CrÃÂ¼e|Logged In|    Micah|     M|           89|    Long|231.26159| free|Boston-Cambridge-...|   PUT|   NextSong|1538331630000|        8|        Sticky Sweet|   200|1538353973000|\"Mozilla/5.0 (Win...|     9|\n",
      "|        Telepopmusik|Logged In|    Micah|     M|           90|    Long|241.60608| free|Boston-Cambridge-...|   PUT|   NextSong|1538331630000|        8|               Smile|   200|1538354204000|\"Mozilla/5.0 (Win...|     9|\n",
      "|     Nine Inch Nails|Logged In|    Micah|     M|           91|    Long| 373.2371| free|Boston-Cambridge-...|   PUT|   NextSong|1538331630000|        8|              Closer|   200|1538354445000|\"Mozilla/5.0 (Win...|     9|\n",
      "|     Edgar Oceransky|Logged In|    Micah|     M|           92|    Long|309.62893| free|Boston-Cambridge-...|   PUT|   NextSong|1538331630000|        8|     Demasiado Bueno|   200|1538354818000|\"Mozilla/5.0 (Win...|     9|\n",
      "|   The Acacia Strain|Logged In|    Micah|     M|           93|    Long|178.15465| free|Boston-Cambridge-...|   PUT|   NextSong|1538331630000|        8|  Whoa! Shut It Down|   200|1538355127000|\"Mozilla/5.0 (Win...|     9|\n",
      "|   Scars On Broadway|Logged In|    Micah|     M|           94|    Long|196.12689| free|Boston-Cambridge-...|   PUT|   NextSong|1538331630000|        8|     World Long Gone|   200|1538355305000|\"Mozilla/5.0 (Win...|     9|\n",
      "|                null|Logged In|    Micah|     M|           95|    Long|     null| free|Boston-Cambridge-...|   PUT|Thumbs Down|1538331630000|        8|                null|   307|1538355306000|\"Mozilla/5.0 (Win...|     9|\n",
      "|          Lily Allen|Logged In|    Micah|     M|           96|    Long|185.83465| free|Boston-Cambridge-...|   PUT|   NextSong|1538331630000|        8|                  22|   200|1538355501000|\"Mozilla/5.0 (Win...|     9|\n",
      "|                null|Logged In|    Micah|     M|           97|    Long|     null| free|Boston-Cambridge-...|   GET|       Home|1538331630000|        8|                null|   200|1538355504000|\"Mozilla/5.0 (Win...|     9|\n",
      "|  The Last Goodnight|Logged In|    Micah|     M|           98|    Long|189.85751| free|Boston-Cambridge-...|   PUT|   NextSong|1538331630000|        8|     Pictures Of You|   200|1538355686000|\"Mozilla/5.0 (Win...|     9|\n",
      "+--------------------+---------+---------+------+-------------+--------+---------+-----+--------------------+------+-----------+-------------+---------+--------------------+------+-------------+--------------------+------+\n",
      "only showing top 20 rows\n",
      "\n"
     ]
    }
   ],
   "source": [
    "df.filter(\"userId = 9\").show()"
   ]
  },
  {
   "cell_type": "markdown",
   "metadata": {},
   "source": [
    "This user at id 9 have many activities. Let's choose users with less activities for easier analysis since we are looking for general observation to explore the data, not deep analysis of each user at this moment.\n",
    "\n",
    "Sort the users by number of records associated with the users."
   ]
  },
  {
   "cell_type": "code",
   "execution_count": 20,
   "metadata": {},
   "outputs": [
    {
     "name": "stdout",
     "output_type": "stream",
     "text": [
      "+------+--------------+\n",
      "|userId|Num Of Records|\n",
      "+------+--------------+\n",
      "|   135|             6|\n",
      "|   156|             6|\n",
      "|   125|            11|\n",
      "|100011|            23|\n",
      "|300003|            35|\n",
      "|100024|            36|\n",
      "|    22|            40|\n",
      "|   133|            44|\n",
      "|100006|            44|\n",
      "|    90|            45|\n",
      "+------+--------------+\n",
      "only showing top 10 rows\n",
      "\n"
     ]
    }
   ],
   "source": [
    "df.groupBy(\"userId\").agg(func.count(func.lit(1)).alias(\"Num Of Records\")).sort(\"Num Of Records\").show(10)"
   ]
  },
  {
   "cell_type": "markdown",
   "metadata": {},
   "source": [
    "Pick user 125 and user 100006 as sample for observation."
   ]
  },
  {
   "cell_type": "code",
   "execution_count": 21,
   "metadata": {},
   "outputs": [
    {
     "name": "stdout",
     "output_type": "stream",
     "text": [
      "+--------------------+---------+---------+------+-------------+--------+---------+-----+------------------+------+--------------------+-------------+---------+--------------------+------+-------------+--------------------+------+\n",
      "|              artist|     auth|firstName|gender|itemInSession|lastName|   length|level|          location|method|                page| registration|sessionId|                song|status|           ts|           userAgent|userId|\n",
      "+--------------------+---------+---------+------+-------------+--------+---------+-----+------------------+------+--------------------+-------------+---------+--------------------+------+-------------+--------------------+------+\n",
      "| Christopher O'Riley|Logged In|    Mason|     M|            0|    Hart|337.91955| free|Corpus Christi, TX|   PUT|            NextSong|1533157139000|      174|    paranoid android|   200|1539317144000|\"Mozilla/5.0 (Mac...|   125|\n",
      "|The Notorious B.I.G.|Logged In|    Mason|     M|            1|    Hart|230.03383| free|Corpus Christi, TX|   PUT|            NextSong|1533157139000|      174|Hypnotize(Album V...|   200|1539317481000|\"Mozilla/5.0 (Mac...|   125|\n",
      "|           Betty Boo|Logged In|    Mason|     M|            2|    Hart| 203.2322| free|Corpus Christi, TX|   PUT|            NextSong|1533157139000|      174|       I'm On My Way|   200|1539317711000|\"Mozilla/5.0 (Mac...|   125|\n",
      "|          Nickelback|Logged In|    Mason|     M|            3|    Hart|210.83383| free|Corpus Christi, TX|   PUT|            NextSong|1533157139000|      174|Leader Of Men (Al...|   200|1539317914000|\"Mozilla/5.0 (Mac...|   125|\n",
      "| Ready For The World|Logged In|    Mason|     M|            4|    Hart|391.26159| free|Corpus Christi, TX|   PUT|            NextSong|1533157139000|      174|       Love You Down|   200|1539318124000|\"Mozilla/5.0 (Mac...|   125|\n",
      "|   We Are The Fallen|Logged In|    Mason|     M|            5|    Hart|213.60281| free|Corpus Christi, TX|   PUT|            NextSong|1533157139000|      174|Don't Leave Me Be...|   200|1539318515000|\"Mozilla/5.0 (Mac...|   125|\n",
      "|      Robert Johnson|Logged In|    Mason|     M|            6|    Hart|178.41587| free|Corpus Christi, TX|   PUT|            NextSong|1533157139000|      174|     They're Red Hot|   200|1539318728000|\"Mozilla/5.0 (Mac...|   125|\n",
      "|              Bonobo|Logged In|    Mason|     M|            7|    Hart|323.81342| free|Corpus Christi, TX|   PUT|            NextSong|1533157139000|      174|                Kota|   200|1539318906000|\"Mozilla/5.0 (Mac...|   125|\n",
      "|                null|Logged In|    Mason|     M|            8|    Hart|     null| free|Corpus Christi, TX|   GET|         Roll Advert|1533157139000|      174|                null|   200|1539318917000|\"Mozilla/5.0 (Mac...|   125|\n",
      "|                null|Logged In|    Mason|     M|            9|    Hart|     null| free|Corpus Christi, TX|   PUT|              Cancel|1533157139000|      174|                null|   307|1539318918000|\"Mozilla/5.0 (Mac...|   125|\n",
      "|                null|Cancelled|    Mason|     M|           10|    Hart|     null| free|Corpus Christi, TX|   GET|Cancellation Conf...|1533157139000|      174|                null|   200|1539318918000|\"Mozilla/5.0 (Mac...|   125|\n",
      "+--------------------+---------+---------+------+-------------+--------+---------+-----+------------------+------+--------------------+-------------+---------+--------------------+------+-------------+--------------------+------+\n",
      "\n"
     ]
    }
   ],
   "source": [
    "df.filter(\"userId = 125\").show()"
   ]
  },
  {
   "cell_type": "code",
   "execution_count": 22,
   "metadata": {},
   "outputs": [],
   "source": [
    "'''\n",
    "+--------------------+---------+---------+------+-------------+--------+---------+-----+------------------+------+--------------------+-------------+---------+--------------------+------+-------------+--------------------+------+\n",
    "|              artist|     auth|firstName|gender|itemInSession|lastName|   length|level|          location|method|                page| registration|sessionId|                song|status|           ts|           userAgent|userId|\n",
    "+--------------------+---------+---------+------+-------------+--------+---------+-----+------------------+------+--------------------+-------------+---------+--------------------+------+-------------+--------------------+------+\n",
    "| Christopher O'Riley|Logged In|    Mason|     M|            0|    Hart|337.91955| free|Corpus Christi, TX|   PUT|            NextSong|1533157139000|      174|    paranoid android|   200|1539317144000|\"Mozilla/5.0 (Mac...|   125|\n",
    "|The Notorious B.I.G.|Logged In|    Mason|     M|            1|    Hart|230.03383| free|Corpus Christi, TX|   PUT|            NextSong|1533157139000|      174|Hypnotize(Album V...|   200|1539317481000|\"Mozilla/5.0 (Mac...|   125|\n",
    "|           Betty Boo|Logged In|    Mason|     M|            2|    Hart| 203.2322| free|Corpus Christi, TX|   PUT|            NextSong|1533157139000|      174|       I'm On My Way|   200|1539317711000|\"Mozilla/5.0 (Mac...|   125|\n",
    "|          Nickelback|Logged In|    Mason|     M|            3|    Hart|210.83383| free|Corpus Christi, TX|   PUT|            NextSong|1533157139000|      174|Leader Of Men (Al...|   200|1539317914000|\"Mozilla/5.0 (Mac...|   125|\n",
    "| Ready For The World|Logged In|    Mason|     M|            4|    Hart|391.26159| free|Corpus Christi, TX|   PUT|            NextSong|1533157139000|      174|       Love You Down|   200|1539318124000|\"Mozilla/5.0 (Mac...|   125|\n",
    "|   We Are The Fallen|Logged In|    Mason|     M|            5|    Hart|213.60281| free|Corpus Christi, TX|   PUT|            NextSong|1533157139000|      174|Don't Leave Me Be...|   200|1539318515000|\"Mozilla/5.0 (Mac...|   125|\n",
    "|      Robert Johnson|Logged In|    Mason|     M|            6|    Hart|178.41587| free|Corpus Christi, TX|   PUT|            NextSong|1533157139000|      174|     They're Red Hot|   200|1539318728000|\"Mozilla/5.0 (Mac...|   125|\n",
    "|              Bonobo|Logged In|    Mason|     M|            7|    Hart|323.81342| free|Corpus Christi, TX|   PUT|            NextSong|1533157139000|      174|                Kota|   200|1539318906000|\"Mozilla/5.0 (Mac...|   125|\n",
    "|                null|Logged In|    Mason|     M|            8|    Hart|     null| free|Corpus Christi, TX|   GET|         Roll Advert|1533157139000|      174|                null|   200|1539318917000|\"Mozilla/5.0 (Mac...|   125|\n",
    "|                null|Logged In|    Mason|     M|            9|    Hart|     null| free|Corpus Christi, TX|   PUT|              Cancel|1533157139000|      174|                null|   307|1539318918000|\"Mozilla/5.0 (Mac...|   125|\n",
    "|                null|Cancelled|    Mason|     M|           10|    Hart|     null| free|Corpus Christi, TX|   GET|Cancellation Conf...|1533157139000|      174|                null|   200|1539318918000|\"Mozilla/5.0 (Mac...|   125|\n",
    "+--------------------+---------+---------+------+-------------+--------+---------+-----+------------------+------+--------------------+-------------+---------+--------------------+------+-------------+--------------------+------+\n",
    "''';"
   ]
  },
  {
   "cell_type": "code",
   "execution_count": 23,
   "metadata": {},
   "outputs": [
    {
     "name": "stdout",
     "output_type": "stream",
     "text": [
      "+--------------------+---------+---------+------+-------------+--------+---------+-----+---------+------+--------------------+-------------+---------+--------------------+------+-------------+--------------------+------+\n",
      "|              artist|     auth|firstName|gender|itemInSession|lastName|   length|level| location|method|                page| registration|sessionId|                song|status|           ts|           userAgent|userId|\n",
      "+--------------------+---------+---------+------+-------------+--------+---------+-----+---------+------+--------------------+-------------+---------+--------------------+------+-------------+--------------------+------+\n",
      "|                null|Logged In|    Leyla|     F|            0|  Barnes|     null| free|Flint, MI|   GET|                Home|1537964483000|        6|                null|   200|1538747464000|\"Mozilla/5.0 (Win...|100006|\n",
      "|Johnny Kidd & The...|Logged In|    Leyla|     F|            1|  Barnes| 140.9824| free|Flint, MI|   PUT|            NextSong|1537964483000|        6|    Shakin' All Over|   200|1538747466000|\"Mozilla/5.0 (Win...|100006|\n",
      "|                null|Logged In|    Leyla|     F|            2|  Barnes|     null| free|Flint, MI|   GET|         Roll Advert|1537964483000|        6|                null|   200|1538747474000|\"Mozilla/5.0 (Win...|100006|\n",
      "| Theory Of A Deadman|Logged In|    Leyla|     F|            3|  Barnes|251.55873| free|Flint, MI|   PUT|            NextSong|1537964483000|        6|    So Happy [Clean]|   200|1538747606000|\"Mozilla/5.0 (Win...|100006|\n",
      "| Kanye West / T-Pain|Logged In|    Leyla|     F|            4|  Barnes|207.04608| free|Flint, MI|   PUT|            NextSong|1537964483000|        6|           Good Life|   200|1538747857000|\"Mozilla/5.0 (Win...|100006|\n",
      "|                null|Logged In|    Leyla|     F|            5|  Barnes|     null| free|Flint, MI|   PUT|         Thumbs Down|1537964483000|        6|                null|   307|1538747858000|\"Mozilla/5.0 (Win...|100006|\n",
      "|           Aerosmith|Logged In|    Leyla|     F|            6|  Barnes|  294.922| free|Flint, MI|   PUT|            NextSong|1537964483000|        6|            Dream On|   200|1538748064000|\"Mozilla/5.0 (Win...|100006|\n",
      "|         Kurt Elling|Logged In|    Leyla|     F|            7|  Barnes|   38.922| free|Flint, MI|   PUT|            NextSong|1537964483000|        6|    Acknowledgements|   200|1538748358000|\"Mozilla/5.0 (Win...|100006|\n",
      "|           Cat Power|Logged In|    Leyla|     F|            8|  Barnes|209.76281| free|Flint, MI|   PUT|            NextSong|1537964483000|        6|              He War|   200|1538748396000|\"Mozilla/5.0 (Win...|100006|\n",
      "|      Ibrahim Ferrer|Logged In|    Leyla|     F|            9|  Barnes|304.48281| free|Flint, MI|   PUT|            NextSong|1537964483000|        6| MamÃÂ­ Me GustÃÂ³|   200|1538748605000|\"Mozilla/5.0 (Win...|100006|\n",
      "|                null|Logged In|    Leyla|     F|           10|  Barnes|     null| free|Flint, MI|   PUT|     Add to Playlist|1537964483000|        6|                null|   200|1538748611000|\"Mozilla/5.0 (Win...|100006|\n",
      "|           Van Halen|Logged In|    Leyla|     F|           11|  Barnes|277.08036| free|Flint, MI|   PUT|            NextSong|1537964483000|        6|              Get Up|   200|1538748909000|\"Mozilla/5.0 (Win...|100006|\n",
      "|          John Mayer|Logged In|    Leyla|     F|           12|  Barnes|269.71383| free|Flint, MI|   PUT|            NextSong|1537964483000|        6|  Heartbreak Warfare|   200|1538749186000|\"Mozilla/5.0 (Win...|100006|\n",
      "|the bird and the bee|Logged In|    Leyla|     F|           13|  Barnes|206.57587| free|Flint, MI|   PUT|            NextSong|1537964483000|        6|           The Races|   200|1538749455000|\"Mozilla/5.0 (Win...|100006|\n",
      "|       Regi & Danzel|Logged In|    Leyla|     F|           14|  Barnes|258.40281| free|Flint, MI|   PUT|            NextSong|1537964483000|        6|What Is Life (Reg...|   200|1538749661000|\"Mozilla/5.0 (Win...|100006|\n",
      "|      Secret Service|Logged In|    Leyla|     F|           15|  Barnes|218.25261| free|Flint, MI|   PUT|            NextSong|1537964483000|        6|  Flash In The Night|   200|1538749919000|\"Mozilla/5.0 (Win...|100006|\n",
      "|                null|Logged In|    Leyla|     F|           16|  Barnes|     null| free|Flint, MI|   GET|         Roll Advert|1537964483000|        6|                null|   200|1538749920000|\"Mozilla/5.0 (Win...|100006|\n",
      "|                null|Logged In|    Leyla|     F|           17|  Barnes|     null| free|Flint, MI|   GET|         Roll Advert|1537964483000|        6|                null|   200|1538749922000|\"Mozilla/5.0 (Win...|100006|\n",
      "|Bill Wells & Mahe...|Logged In|    Leyla|     F|           18|  Barnes|131.44771| free|Flint, MI|   PUT|            NextSong|1537964483000|        6| Banned Announcement|   200|1538750137000|\"Mozilla/5.0 (Win...|100006|\n",
      "|               Cabas|Logged In|    Leyla|     F|           19|  Barnes|223.92118| free|Flint, MI|   PUT|            NextSong|1537964483000|        6|    La Cadena De Oro|   200|1538750268000|\"Mozilla/5.0 (Win...|100006|\n",
      "|                null|Logged In|    Leyla|     F|           20|  Barnes|     null| free|Flint, MI|   PUT|           Thumbs Up|1537964483000|        6|                null|   307|1538750269000|\"Mozilla/5.0 (Win...|100006|\n",
      "|           Fever Ray|Logged In|    Leyla|     F|           21|  Barnes|342.93506| free|Flint, MI|   PUT|            NextSong|1537964483000|        6|               Seven|   200|1538750491000|\"Mozilla/5.0 (Win...|100006|\n",
      "|       Ismael Rivera|Logged In|    Leyla|     F|           22|  Barnes|249.46893| free|Flint, MI|   PUT|            NextSong|1537964483000|        6|               Suave|   200|1538750833000|\"Mozilla/5.0 (Win...|100006|\n",
      "|      Pugh Rogefeldt|Logged In|    Leyla|     F|           23|  Barnes|186.22649| free|Flint, MI|   PUT|            NextSong|1537964483000|        6|           Stockholm|   200|1538751082000|\"Mozilla/5.0 (Win...|100006|\n",
      "|                null|Logged In|    Leyla|     F|           24|  Barnes|     null| free|Flint, MI|   PUT|          Add Friend|1537964483000|        6|                null|   307|1538751083000|\"Mozilla/5.0 (Win...|100006|\n",
      "|                null|Logged In|    Leyla|     F|           25|  Barnes|     null| free|Flint, MI|   PUT|          Add Friend|1537964483000|        6|                null|   307|1538751084000|\"Mozilla/5.0 (Win...|100006|\n",
      "|                null|Logged In|    Leyla|     F|           26|  Barnes|     null| free|Flint, MI|   PUT|          Add Friend|1537964483000|        6|                null|   307|1538751085000|\"Mozilla/5.0 (Win...|100006|\n",
      "|          Emre Aydin|Logged In|    Leyla|     F|           27|  Barnes|276.97587| free|Flint, MI|   PUT|            NextSong|1537964483000|        6|Belki Bir Gun Ozl...|   200|1538751268000|\"Mozilla/5.0 (Win...|100006|\n",
      "|      Homesick James|Logged In|    Leyla|     F|           28|  Barnes|199.65342| free|Flint, MI|   PUT|            NextSong|1537964483000|        6|Working With Home...|   200|1538751544000|\"Mozilla/5.0 (Win...|100006|\n",
      "|          Lazlo Bane|Logged In|    Leyla|     F|           29|  Barnes|218.48771| free|Flint, MI|   PUT|            NextSong|1537964483000|        6|            Superman|   200|1538751743000|\"Mozilla/5.0 (Win...|100006|\n",
      "|       Cocteau Twins|Logged In|    Leyla|     F|           30|  Barnes| 220.1073| free|Flint, MI|   PUT|            NextSong|1537964483000|        6|      Millimillenary|   200|1538751961000|\"Mozilla/5.0 (Win...|100006|\n",
      "|                Beck|Logged In|    Leyla|     F|           31|  Barnes|202.31791| free|Flint, MI|   PUT|            NextSong|1537964483000|        6|               E-Pro|   200|1538752181000|\"Mozilla/5.0 (Win...|100006|\n",
      "|                null|Logged In|    Leyla|     F|           32|  Barnes|     null| free|Flint, MI|   PUT|           Thumbs Up|1537964483000|        6|                null|   307|1538752182000|\"Mozilla/5.0 (Win...|100006|\n",
      "|Christina Aguiler...|Logged In|    Leyla|     F|           33|  Barnes|264.93342| free|Flint, MI|   PUT|            NextSong|1537964483000|        6|      Lady Marmalade|   200|1538752383000|\"Mozilla/5.0 (Win...|100006|\n",
      "|                null|Logged In|    Leyla|     F|           34|  Barnes|     null| free|Flint, MI|   PUT|         Thumbs Down|1537964483000|        6|                null|   307|1538752384000|\"Mozilla/5.0 (Win...|100006|\n",
      "|                Maps|Logged In|    Leyla|     F|           35|  Barnes|203.78077| free|Flint, MI|   PUT|            NextSong|1537964483000|        6|You Don't Know He...|   200|1538752647000|\"Mozilla/5.0 (Win...|100006|\n",
      "|The Unfinished Sy...|Logged In|    Leyla|     F|           36|  Barnes|212.00934| free|Flint, MI|   PUT|            NextSong|1537964483000|        6|         Ceasie fire|   200|1538752850000|\"Mozilla/5.0 (Win...|100006|\n",
      "|                null|Logged In|    Leyla|     F|           37|  Barnes|     null| free|Flint, MI|   PUT|              Logout|1537964483000|        6|                null|   307|1538752851000|\"Mozilla/5.0 (Win...|100006|\n",
      "|                null|Logged In|    Leyla|     F|           40|  Barnes|     null| free|Flint, MI|   GET|                Home|1537964483000|        6|                null|   200|1538752865000|\"Mozilla/5.0 (Win...|100006|\n",
      "|                null|Logged In|    Leyla|     F|           41|  Barnes|     null| free|Flint, MI|   PUT|          Add Friend|1537964483000|        6|                null|   307|1538752866000|\"Mozilla/5.0 (Win...|100006|\n",
      "|          Arch Enemy|Logged In|    Leyla|     F|           42|  Barnes|244.92363| free|Flint, MI|   PUT|            NextSong|1537964483000|        6|          Silverwing|   200|1538753062000|\"Mozilla/5.0 (Win...|100006|\n",
      "|                null|Logged In|    Leyla|     F|           43|  Barnes|     null| free|Flint, MI|   GET|            Settings|1537964483000|        6|                null|   200|1538753066000|\"Mozilla/5.0 (Win...|100006|\n",
      "|                null|Logged In|    Leyla|     F|           44|  Barnes|     null| free|Flint, MI|   PUT|              Cancel|1537964483000|        6|                null|   307|1538753067000|\"Mozilla/5.0 (Win...|100006|\n",
      "|                null|Cancelled|    Leyla|     F|           45|  Barnes|     null| free|Flint, MI|   GET|Cancellation Conf...|1537964483000|        6|                null|   200|1538753070000|\"Mozilla/5.0 (Win...|100006|\n",
      "+--------------------+---------+---------+------+-------------+--------+---------+-----+---------+------+--------------------+-------------+---------+--------------------+------+-------------+--------------------+------+\n",
      "\n"
     ]
    }
   ],
   "source": [
    "df.filter(\"userId = 100006\").show(44)"
   ]
  },
  {
   "cell_type": "code",
   "execution_count": 24,
   "metadata": {},
   "outputs": [],
   "source": [
    "'''\n",
    "+--------------------+---------+---------+------+-------------+--------+---------+-----+---------+------+--------------------+-------------+---------+--------------------+------+-------------+--------------------+------+\n",
    "|              artist|     auth|firstName|gender|itemInSession|lastName|   length|level| location|method|                page| registration|sessionId|                song|status|           ts|           userAgent|userId|\n",
    "+--------------------+---------+---------+------+-------------+--------+---------+-----+---------+------+--------------------+-------------+---------+--------------------+------+-------------+--------------------+------+\n",
    "|                null|Logged In|    Leyla|     F|            0|  Barnes|     null| free|Flint, MI|   GET|                Home|1537964483000|        6|                null|   200|1538747464000|\"Mozilla/5.0 (Win...|100006|\n",
    "|Johnny Kidd & The...|Logged In|    Leyla|     F|            1|  Barnes| 140.9824| free|Flint, MI|   PUT|            NextSong|1537964483000|        6|    Shakin' All Over|   200|1538747466000|\"Mozilla/5.0 (Win...|100006|\n",
    "|                null|Logged In|    Leyla|     F|            2|  Barnes|     null| free|Flint, MI|   GET|         Roll Advert|1537964483000|        6|                null|   200|1538747474000|\"Mozilla/5.0 (Win...|100006|\n",
    "| Theory Of A Deadman|Logged In|    Leyla|     F|            3|  Barnes|251.55873| free|Flint, MI|   PUT|            NextSong|1537964483000|        6|    So Happy [Clean]|   200|1538747606000|\"Mozilla/5.0 (Win...|100006|\n",
    "| Kanye West / T-Pain|Logged In|    Leyla|     F|            4|  Barnes|207.04608| free|Flint, MI|   PUT|            NextSong|1537964483000|        6|           Good Life|   200|1538747857000|\"Mozilla/5.0 (Win...|100006|\n",
    "|                null|Logged In|    Leyla|     F|            5|  Barnes|     null| free|Flint, MI|   PUT|         Thumbs Down|1537964483000|        6|                null|   307|1538747858000|\"Mozilla/5.0 (Win...|100006|\n",
    "|           Aerosmith|Logged In|    Leyla|     F|            6|  Barnes|  294.922| free|Flint, MI|   PUT|            NextSong|1537964483000|        6|            Dream On|   200|1538748064000|\"Mozilla/5.0 (Win...|100006|\n",
    "|         Kurt Elling|Logged In|    Leyla|     F|            7|  Barnes|   38.922| free|Flint, MI|   PUT|            NextSong|1537964483000|        6|    Acknowledgements|   200|1538748358000|\"Mozilla/5.0 (Win...|100006|\n",
    "|           Cat Power|Logged In|    Leyla|     F|            8|  Barnes|209.76281| free|Flint, MI|   PUT|            NextSong|1537964483000|        6|              He War|   200|1538748396000|\"Mozilla/5.0 (Win...|100006|\n",
    "|      Ibrahim Ferrer|Logged In|    Leyla|     F|            9|  Barnes|304.48281| free|Flint, MI|   PUT|            NextSong|1537964483000|        6| MamÃÂ­ Me GustÃÂ³|   200|1538748605000|\"Mozilla/5.0 (Win...|100006|\n",
    "|                null|Logged In|    Leyla|     F|           10|  Barnes|     null| free|Flint, MI|   PUT|     Add to Playlist|1537964483000|        6|                null|   200|1538748611000|\"Mozilla/5.0 (Win...|100006|\n",
    "|           Van Halen|Logged In|    Leyla|     F|           11|  Barnes|277.08036| free|Flint, MI|   PUT|            NextSong|1537964483000|        6|              Get Up|   200|1538748909000|\"Mozilla/5.0 (Win...|100006|\n",
    "|          John Mayer|Logged In|    Leyla|     F|           12|  Barnes|269.71383| free|Flint, MI|   PUT|            NextSong|1537964483000|        6|  Heartbreak Warfare|   200|1538749186000|\"Mozilla/5.0 (Win...|100006|\n",
    "|the bird and the bee|Logged In|    Leyla|     F|           13|  Barnes|206.57587| free|Flint, MI|   PUT|            NextSong|1537964483000|        6|           The Races|   200|1538749455000|\"Mozilla/5.0 (Win...|100006|\n",
    "|       Regi & Danzel|Logged In|    Leyla|     F|           14|  Barnes|258.40281| free|Flint, MI|   PUT|            NextSong|1537964483000|        6|What Is Life (Reg...|   200|1538749661000|\"Mozilla/5.0 (Win...|100006|\n",
    "|      Secret Service|Logged In|    Leyla|     F|           15|  Barnes|218.25261| free|Flint, MI|   PUT|            NextSong|1537964483000|        6|  Flash In The Night|   200|1538749919000|\"Mozilla/5.0 (Win...|100006|\n",
    "|                null|Logged In|    Leyla|     F|           16|  Barnes|     null| free|Flint, MI|   GET|         Roll Advert|1537964483000|        6|                null|   200|1538749920000|\"Mozilla/5.0 (Win...|100006|\n",
    "|                null|Logged In|    Leyla|     F|           17|  Barnes|     null| free|Flint, MI|   GET|         Roll Advert|1537964483000|        6|                null|   200|1538749922000|\"Mozilla/5.0 (Win...|100006|\n",
    "|Bill Wells & Mahe...|Logged In|    Leyla|     F|           18|  Barnes|131.44771| free|Flint, MI|   PUT|            NextSong|1537964483000|        6| Banned Announcement|   200|1538750137000|\"Mozilla/5.0 (Win...|100006|\n",
    "|               Cabas|Logged In|    Leyla|     F|           19|  Barnes|223.92118| free|Flint, MI|   PUT|            NextSong|1537964483000|        6|    La Cadena De Oro|   200|1538750268000|\"Mozilla/5.0 (Win...|100006|\n",
    "|                null|Logged In|    Leyla|     F|           20|  Barnes|     null| free|Flint, MI|   PUT|           Thumbs Up|1537964483000|        6|                null|   307|1538750269000|\"Mozilla/5.0 (Win...|100006|\n",
    "|           Fever Ray|Logged In|    Leyla|     F|           21|  Barnes|342.93506| free|Flint, MI|   PUT|            NextSong|1537964483000|        6|               Seven|   200|1538750491000|\"Mozilla/5.0 (Win...|100006|\n",
    "|       Ismael Rivera|Logged In|    Leyla|     F|           22|  Barnes|249.46893| free|Flint, MI|   PUT|            NextSong|1537964483000|        6|               Suave|   200|1538750833000|\"Mozilla/5.0 (Win...|100006|\n",
    "|      Pugh Rogefeldt|Logged In|    Leyla|     F|           23|  Barnes|186.22649| free|Flint, MI|   PUT|            NextSong|1537964483000|        6|           Stockholm|   200|1538751082000|\"Mozilla/5.0 (Win...|100006|\n",
    "|                null|Logged In|    Leyla|     F|           24|  Barnes|     null| free|Flint, MI|   PUT|          Add Friend|1537964483000|        6|                null|   307|1538751083000|\"Mozilla/5.0 (Win...|100006|\n",
    "|                null|Logged In|    Leyla|     F|           25|  Barnes|     null| free|Flint, MI|   PUT|          Add Friend|1537964483000|        6|                null|   307|1538751084000|\"Mozilla/5.0 (Win...|100006|\n",
    "|                null|Logged In|    Leyla|     F|           26|  Barnes|     null| free|Flint, MI|   PUT|          Add Friend|1537964483000|        6|                null|   307|1538751085000|\"Mozilla/5.0 (Win...|100006|\n",
    "|          Emre Aydin|Logged In|    Leyla|     F|           27|  Barnes|276.97587| free|Flint, MI|   PUT|            NextSong|1537964483000|        6|Belki Bir Gun Ozl...|   200|1538751268000|\"Mozilla/5.0 (Win...|100006|\n",
    "|      Homesick James|Logged In|    Leyla|     F|           28|  Barnes|199.65342| free|Flint, MI|   PUT|            NextSong|1537964483000|        6|Working With Home...|   200|1538751544000|\"Mozilla/5.0 (Win...|100006|\n",
    "|          Lazlo Bane|Logged In|    Leyla|     F|           29|  Barnes|218.48771| free|Flint, MI|   PUT|            NextSong|1537964483000|        6|            Superman|   200|1538751743000|\"Mozilla/5.0 (Win...|100006|\n",
    "|       Cocteau Twins|Logged In|    Leyla|     F|           30|  Barnes| 220.1073| free|Flint, MI|   PUT|            NextSong|1537964483000|        6|      Millimillenary|   200|1538751961000|\"Mozilla/5.0 (Win...|100006|\n",
    "|                Beck|Logged In|    Leyla|     F|           31|  Barnes|202.31791| free|Flint, MI|   PUT|            NextSong|1537964483000|        6|               E-Pro|   200|1538752181000|\"Mozilla/5.0 (Win...|100006|\n",
    "|                null|Logged In|    Leyla|     F|           32|  Barnes|     null| free|Flint, MI|   PUT|           Thumbs Up|1537964483000|        6|                null|   307|1538752182000|\"Mozilla/5.0 (Win...|100006|\n",
    "|Christina Aguiler...|Logged In|    Leyla|     F|           33|  Barnes|264.93342| free|Flint, MI|   PUT|            NextSong|1537964483000|        6|      Lady Marmalade|   200|1538752383000|\"Mozilla/5.0 (Win...|100006|\n",
    "|                null|Logged In|    Leyla|     F|           34|  Barnes|     null| free|Flint, MI|   PUT|         Thumbs Down|1537964483000|        6|                null|   307|1538752384000|\"Mozilla/5.0 (Win...|100006|\n",
    "|                Maps|Logged In|    Leyla|     F|           35|  Barnes|203.78077| free|Flint, MI|   PUT|            NextSong|1537964483000|        6|You Don't Know He...|   200|1538752647000|\"Mozilla/5.0 (Win...|100006|\n",
    "|The Unfinished Sy...|Logged In|    Leyla|     F|           36|  Barnes|212.00934| free|Flint, MI|   PUT|            NextSong|1537964483000|        6|         Ceasie fire|   200|1538752850000|\"Mozilla/5.0 (Win...|100006|\n",
    "|                null|Logged In|    Leyla|     F|           37|  Barnes|     null| free|Flint, MI|   PUT|              Logout|1537964483000|        6|                null|   307|1538752851000|\"Mozilla/5.0 (Win...|100006|\n",
    "|                null|Logged In|    Leyla|     F|           40|  Barnes|     null| free|Flint, MI|   GET|                Home|1537964483000|        6|                null|   200|1538752865000|\"Mozilla/5.0 (Win...|100006|\n",
    "|                null|Logged In|    Leyla|     F|           41|  Barnes|     null| free|Flint, MI|   PUT|          Add Friend|1537964483000|        6|                null|   307|1538752866000|\"Mozilla/5.0 (Win...|100006|\n",
    "|          Arch Enemy|Logged In|    Leyla|     F|           42|  Barnes|244.92363| free|Flint, MI|   PUT|            NextSong|1537964483000|        6|          Silverwing|   200|1538753062000|\"Mozilla/5.0 (Win...|100006|\n",
    "|                null|Logged In|    Leyla|     F|           43|  Barnes|     null| free|Flint, MI|   GET|            Settings|1537964483000|        6|                null|   200|1538753066000|\"Mozilla/5.0 (Win...|100006|\n",
    "|                null|Logged In|    Leyla|     F|           44|  Barnes|     null| free|Flint, MI|   PUT|              Cancel|1537964483000|        6|                null|   307|1538753067000|\"Mozilla/5.0 (Win...|100006|\n",
    "|                null|Cancelled|    Leyla|     F|           45|  Barnes|     null| free|Flint, MI|   GET|Cancellation Conf...|1537964483000|        6|                null|   200|1538753070000|\"Mozilla/5.0 (Win...|100006|\n",
    "+--------------------+---------+---------+------+-------------+--------+---------+-----+---------+------+--------------------+-------------+---------+--------------------+------+-------------+--------------------+------+\n",
    "\n",
    "''';"
   ]
  },
  {
   "cell_type": "markdown",
   "metadata": {},
   "source": [
    "Now we can identity the data worth looking deeper into. The data (columns) can be splited into some groups:\n",
    "\n",
    "1. Most of the data are repeat and should not have effect on the churn rate. For example, name of the user, should not nothing to do with churn rate.\n",
    "2. Some data are also repeat, and although might has a slight effect, and should not have effect in churn rate either. For example, an user in location of Flint, MI is likely not have higher churn rate than an user in Houston, TX. When user regisrted might not but likely very small effect.\n",
    "3. Song, artiest related info could be interesting. Will people listening to certain aritist will stay longer with the service?\n",
    "4. Some technical related info, such as method, itemSession, are HTTP request type, session id, respectively and make no sense for them to affect churn rate.\n",
    "5. 'length', which is the time user spent on that page. Obviously have effect on the retention. Users spent more time are considered more engaging, and should be loyal to the service. Combined with 'ts' timestamp, we could develop a metric like daily usage rate. Which can be a good measure of user's engagement.\n",
    "6. 'page', which indicate the activity of users, could be interesting as well. This worth looking further into.\n",
    "\n"
   ]
  },
  {
   "cell_type": "code",
   "execution_count": 25,
   "metadata": {},
   "outputs": [
    {
     "name": "stdout",
     "output_type": "stream",
     "text": [
      "+--------------------+\n",
      "|                page|\n",
      "+--------------------+\n",
      "|              Cancel|\n",
      "|    Submit Downgrade|\n",
      "|         Thumbs Down|\n",
      "|                Home|\n",
      "|           Downgrade|\n",
      "|         Roll Advert|\n",
      "|              Logout|\n",
      "|       Save Settings|\n",
      "|Cancellation Conf...|\n",
      "|               About|\n",
      "| Submit Registration|\n",
      "|            Settings|\n",
      "|               Login|\n",
      "|            Register|\n",
      "|     Add to Playlist|\n",
      "|          Add Friend|\n",
      "|            NextSong|\n",
      "|           Thumbs Up|\n",
      "|                Help|\n",
      "|             Upgrade|\n",
      "|               Error|\n",
      "|      Submit Upgrade|\n",
      "+--------------------+\n",
      "\n"
     ]
    }
   ],
   "source": [
    "df.select(\"page\").distinct().show(100)"
   ]
  },
  {
   "cell_type": "markdown",
   "metadata": {},
   "source": [
    "Looking at the type of pages, it appear to have many rich functions. For example, in addition to normal song listening activities, an user can 'Add Friend', 'Thumbs Up'. These type of social activities likely increase engagement of users."
   ]
  },
  {
   "cell_type": "code",
   "execution_count": 26,
   "metadata": {},
   "outputs": [
    {
     "data": {
      "text/plain": [
       "226"
      ]
     },
     "execution_count": 26,
     "metadata": {},
     "output_type": "execute_result"
    }
   ],
   "source": [
    "df.select(\"userId\").distinct().count()"
   ]
  },
  {
   "cell_type": "markdown",
   "metadata": {},
   "source": [
    "There are total of 226 users in this min dataset. This gives us a scope of the data."
   ]
  },
  {
   "cell_type": "code",
   "execution_count": 27,
   "metadata": {
    "scrolled": true
   },
   "outputs": [
    {
     "name": "stdout",
     "output_type": "stream",
     "text": [
      "+------+\n",
      "|status|\n",
      "+------+\n",
      "|   307|\n",
      "|   404|\n",
      "|   200|\n",
      "+------+\n",
      "\n"
     ]
    }
   ],
   "source": [
    "df.select(\"status\").distinct().show(100)"
   ]
  },
  {
   "cell_type": "code",
   "execution_count": 28,
   "metadata": {},
   "outputs": [
    {
     "name": "stdout",
     "output_type": "stream",
     "text": [
      "+------+---------+---------+------+-------------+--------+------+-----+--------------------+------+-----+-------------+---------+----+------+-------------+--------------------+------+\n",
      "|artist|     auth|firstName|gender|itemInSession|lastName|length|level|            location|method| page| registration|sessionId|song|status|           ts|           userAgent|userId|\n",
      "+------+---------+---------+------+-------------+--------+------+-----+--------------------+------+-----+-------------+---------+----+------+-------------+--------------------+------+\n",
      "|  null|Logged In|     Kael|     M|           48|   Baker|  null| paid|Kingsport-Bristol...|   GET|Error|1533102330000|      249|null|   404|1538393848000|\"Mozilla/5.0 (Mac...|   131|\n",
      "|  null|Logged In|   Lucero|     F|           10|    Reed|  null| free|Louisville/Jeffer...|   GET|Error|1536642109000|      139|null|   404|1538407927000|\"Mozilla/5.0 (Win...|   140|\n",
      "|  null|Logged In|Sebastian|     M|           38|    Wang|  null| free|         Jackson, MS|   GET|Error|1538050164000|       52|null|   404|1538425401000|\"Mozilla/5.0 (Mac...|    53|\n",
      "|  null|Logged In|    Micah|     M|           38|    Long|  null| free|Boston-Cambridge-...|   GET|Error|1538331630000|      262|null|   404|1538489751000|\"Mozilla/5.0 (Win...|     9|\n",
      "|  null|Logged In|   Payton|     F|           19|Campbell|  null| free|Los Angeles-Long ...|   GET|Error|1529027541000|      354|null|   404|1538515176000|\"Mozilla/5.0 (Win...|    39|\n",
      "|  null|Logged In|   Lucero|     F|           36|    Reed|  null| free|Louisville/Jeffer...|   GET|Error|1536642109000|      296|null|   404|1538518108000|\"Mozilla/5.0 (Win...|   140|\n",
      "|  null|Logged In|   Jayden|     F|          127|Phillips|  null| free|New York-Newark-J...|   GET|Error|1537893493000|      117|null|   404|1538530489000|\"Mozilla/5.0 (Win...|   118|\n",
      "|  null|Logged In|Alexander|     M|          189|  Garcia|  null| paid|Indianapolis-Carm...|   GET|Error|1536817381000|      104|null|   404|1538547956000|Mozilla/5.0 (Wind...|   105|\n",
      "|  null|Logged In|    Panav|     M|           76|   Myers|  null| paid|      Morgantown, WV|   GET|Error|1538239045000|      287|null|   404|1538572413000|\"Mozilla/5.0 (Win...|    15|\n",
      "|  null|Logged In|   Justin|     M|           50| Schmidt|  null| free|New York-Newark-J...|   GET|Error|1537915702000|      197|null|   404|1538660999000|\"Mozilla/5.0 (Win...|   102|\n",
      "|  null|Logged In|   Nicole|     F|          100|    Beck|  null| paid|Vineland-Bridgeto...|   GET|Error|1532224335000|      420|null|   404|1538673969000|\"Mozilla/5.0 (Mac...|   124|\n",
      "|  null|Logged In|   Nicole|     F|          346|    Beck|  null| paid|Vineland-Bridgeto...|   GET|Error|1532224335000|      420|null|   404|1538724012000|\"Mozilla/5.0 (Mac...|   124|\n",
      "|  null|Logged In|   Karter|     M|           27| Mathews|  null| free|New Haven-Milford...|   GET|Error|1533398428000|       90|null|   404|1538728948000|Mozilla/5.0 (Wind...|    91|\n",
      "|  null|Logged In|   Karter|     M|           76| Mathews|  null| free|New Haven-Milford...|   GET|Error|1533398428000|       90|null|   404|1538739205000|Mozilla/5.0 (Wind...|    91|\n",
      "|  null|Logged In|     Lina|     F|          291| Francis|  null| paid|Los Angeles-Long ...|   GET|Error|1536948181000|      316|null|   404|1538760805000|Mozilla/5.0 (Wind...|   115|\n",
      "|  null|Logged In|    Alexi|     F|           57|  Warren|  null| paid|Spokane-Spokane V...|   GET|Error|1532482662000|      495|null|   404|1538786672000|Mozilla/5.0 (Wind...|    54|\n",
      "|  null|Logged In|   Nithya|     F|           98|   Colon|  null| free|Buffalo-Cheektowa...|   GET|Error|1537142824000|      486|null|   404|1538797513000|\"Mozilla/5.0 (Win...|   117|\n",
      "|  null|Logged In|   Nithya|     F|          121|   Colon|  null| free|Buffalo-Cheektowa...|   GET|Error|1537142824000|      486|null|   404|1538801398000|\"Mozilla/5.0 (Win...|   117|\n",
      "|  null|Logged In|     Lina|     F|          831| Francis|  null| paid|Los Angeles-Long ...|   GET|Error|1536948181000|      316|null|   404|1538869294000|Mozilla/5.0 (Wind...|   115|\n",
      "|  null|Logged In|    Grant|     M|          244|  Flores|  null| paid|New York-Newark-J...|   GET|Error|1538120859000|      498|null|   404|1538886542000|\"Mozilla/5.0 (Mac...|   142|\n",
      "+------+---------+---------+------+-------------+--------+------+-----+--------------------+------+-----+-------------+---------+----+------+-------------+--------------------+------+\n",
      "only showing top 20 rows\n",
      "\n"
     ]
    }
   ],
   "source": [
    "df.filter(\"status = 404\").show()"
   ]
  },
  {
   "cell_type": "markdown",
   "metadata": {},
   "source": [
    "The status is a simple HTTP status code. But will a failed page frustrate users and make them less loyal? Further looking into the status code, it appears to be a normal procedure of user's activity.\n",
    "\n",
    "Further looking into the status, there are only 3 types. 200 is normal. 307 is redirect due to user's action on page, hence is normal as well. 404 is error and given the context, we do not know why it happened. This might nor might not be an issue without knowing further about the context. However, give that 404 is always associated with page 'Error', this info is covered by 'page' type already, making status code redundant. So we will look at page type alone to extract this info.\n"
   ]
  },
  {
   "cell_type": "markdown",
   "metadata": {},
   "source": [
    "# Feature Engineering\n",
    "Once you've familiarized yourself with the data, build out the features you find promising to train your model on. To work with the full dataset, you can follow the following steps.\n",
    "- Write a script to extract the necessary features from the smaller subset of data\n",
    "- Ensure that your script is scalable, using the best practices discussed in Lesson 3\n",
    "- Try your script on the full data set, debugging your script if necessary\n",
    "\n",
    "If you are working in the classroom workspace, you can just extract features based on the small subset of data contained here. Be sure to transfer over this work to the larger dataset when you work on your Spark cluster."
   ]
  },
  {
   "cell_type": "markdown",
   "metadata": {},
   "source": [
    "### Features to extract\n",
    "\n",
    "With the founding from EDA section, we decided to extract the following data, per user:\n",
    "1. Number of records, e.g., the number of activities user interact with the serivce.\n",
    "2. Number of actions, for each type of action as indicated by page type. For example, how many times the user perform \"NextSong\", \"Add to Playlist\", \"Add Friend\", and all other actions.\n",
    "3. The average time spent on each action. This value exist only if the action is listening to the Song, e.g. \"NextSong\".\n",
    "4. The averge, of total amount of time spent, each day. This is different from the time spent per action. Per action time is likely correlated to length of song, while time spent per day could be a better measure of engageness of user.\n",
    "5. **The \"Cancel\" action cannot be used as feature!** Initially, we considered the Cancel action to be just cancel previous action. The model testing with Cancel action included as feature resulted in 100% accuracy. Hindsight, the \"Cancel\" does not mean user wants to cancel playing a song, but mean user wants to Cancel service, while \"Cancellation Confirmation\" servers as confirmation. That's why there is a 1 to 1 match of these two values."
   ]
  },
  {
   "cell_type": "code",
   "execution_count": 29,
   "metadata": {},
   "outputs": [],
   "source": [
    "df_features = df.groupBy(\"userId\").agg(\n",
    "                         func.count(func.lit(1)).alias(\"Num Of Records\"), \\\n",
    "                         func.mean('length').alias(\"AvgLength\"), \\\n",
    "                         #func.count(func.when(df[\"page\"] == \"Cancel\", 1)).alias(\"Cancel\"), \\\n",
    "                         func.count(func.when(df[\"page\"] == \"Submit Downgrade\", 1)).alias(\"Submit Downgrade\"), \\\n",
    "                         func.count(func.when(df[\"page\"] == \"Thumbs Down\", 1)).alias(\"Thumbs Down\"), \\\n",
    "                         func.count(func.when(df[\"page\"] == \"Home\", 1)).alias(\"Home\"), \\\n",
    "                         func.count(func.when(df[\"page\"] == \"Downgrade\", 1)).alias(\"Downgrade\"), \\\n",
    "                         func.count(func.when(df[\"page\"] == \"Roll Advert\", 1)).alias(\"Roll Advert\"), \\\n",
    "                         func.count(func.when(df[\"page\"] == \"Logout\", 1)).alias(\"Logout\"), \\\n",
    "                         func.count(func.when(df[\"page\"] == \"Save Settings\", 1)).alias(\"Save Settings\"), \\\n",
    "                         func.count(func.when(df[\"page\"] == \"Cancellation Confirmation\", 1)).alias(\"Cancellation Confirmation\"), \\\n",
    "                         func.count(func.when(df[\"page\"] == \"About\", 1)).alias(\"About\"), \\\n",
    "                         func.count(func.when(df[\"page\"] == \"Submit Registration\", 1)).alias(\"Submit Registration\"), \\\n",
    "                         func.count(func.when(df[\"page\"] == \"Settings\", 1)).alias(\"Settings\"), \\\n",
    "                         func.count(func.when(df[\"page\"] == \"Login\", 1)).alias(\"Login\"), \\\n",
    "                         func.count(func.when(df[\"page\"] == \"Register\", 1)).alias(\"Register\"), \\\n",
    "                         func.count(func.when(df[\"page\"] == \"Add to Playlist\", 1)).alias(\"Add to Playlist\"), \\\n",
    "                         func.count(func.when(df[\"page\"] == \"Add Friend\", 1)).alias(\"Add Friend\"), \\\n",
    "                         func.count(func.when(df[\"page\"] == \"NextSong\", 1)).alias(\"NextSong\"), \\\n",
    "                         func.count(func.when(df[\"page\"] == \"Thumbs Up\", 1)).alias(\"Thumbs Up\"), \\\n",
    "                         func.count(func.when(df[\"page\"] == \"Help\", 1)).alias(\"Help\"), \\\n",
    "                         func.count(func.when(df[\"page\"] == \"Upgrade\", 1)).alias(\"Upgrade\"), \\\n",
    "                         func.count(func.when(df[\"page\"] == \"Error\", 1)).alias(\"Error\"), \\\n",
    "                         func.count(func.when(df[\"page\"] == \"Submit Upgrade\", 1)).alias(\"Submit Upgrade\"), \\\n",
    "                        )"
   ]
  },
  {
   "cell_type": "markdown",
   "metadata": {},
   "source": [
    "The time spent per day requires a little more processing to provide per user data on this metric."
   ]
  },
  {
   "cell_type": "code",
   "execution_count": 30,
   "metadata": {},
   "outputs": [
    {
     "name": "stdout",
     "output_type": "stream",
     "text": [
      "+------+------------------+\n",
      "|userId|    DailyAvgLength|\n",
      "+------+------------------+\n",
      "|200002|13429.839419999995|\n",
      "|100010| 9562.985335714286|\n",
      "|   125|2089.1131000000005|\n",
      "|   124|  31634.7528996875|\n",
      "|    51| 40251.98790769231|\n",
      "|     7|      4754.2608875|\n",
      "|    54|23711.497318000005|\n",
      "|    15|25121.452937368413|\n",
      "|   155|24847.411487499998|\n",
      "|   132| 23005.66208761905|\n",
      "|   154|6886.6746366666675|\n",
      "|100014|11283.912013333334|\n",
      "|    11|        9979.37269|\n",
      "|   101|34420.308820769234|\n",
      "|   138|30144.110750588236|\n",
      "|300017|18695.978754375006|\n",
      "|    69|23838.668803333338|\n",
      "|    29|26017.846985172404|\n",
      "|100021|11526.635128000004|\n",
      "|    42|21507.145515365853|\n",
      "+------+------------------+\n",
      "only showing top 20 rows\n",
      "\n"
     ]
    }
   ],
   "source": [
    "df = df.withColumn('ts1000date_trunc', func.date_trunc('day', (df.ts/1000).cast(\"timestamp\")))\n",
    "daily_length_df = df.groupBy('userId', 'ts1000date_trunc').sum('length')\n",
    "daily_length_df = daily_length_df.groupBy('userId').mean()\n",
    "daily_length_df = daily_length_df.withColumnRenamed('avg(sum(length))', 'DailyAvgLength')\n",
    "daily_length_df.show()"
   ]
  },
  {
   "cell_type": "code",
   "execution_count": 31,
   "metadata": {},
   "outputs": [],
   "source": [
    "df_features = df_features.join(daily_length_df, df_features.userId == daily_length_df.userId).drop(daily_length_df.userId)"
   ]
  },
  {
   "cell_type": "code",
   "execution_count": 32,
   "metadata": {},
   "outputs": [
    {
     "name": "stdout",
     "output_type": "stream",
     "text": [
      "+--------------+------------------+----------------+-----------+----+---------+-----------+------+-------------+-------------------------+-----+-------------------+--------+-----+--------+---------------+----------+--------+---------+----+-------+-----+--------------+------+------------------+\n",
      "|Num Of Records|         AvgLength|Submit Downgrade|Thumbs Down|Home|Downgrade|Roll Advert|Logout|Save Settings|Cancellation Confirmation|About|Submit Registration|Settings|Login|Register|Add to Playlist|Add Friend|NextSong|Thumbs Up|Help|Upgrade|Error|Submit Upgrade|userId|    DailyAvgLength|\n",
      "+--------------+------------------+----------------+-----------+----+---------+-----------+------+-------------+-------------------------+-----+-------------------+--------+-----+--------+---------------+----------+--------+---------+----+-------+-----+--------------+------+------------------+\n",
      "|           381|  243.421444909091|               0|          5|  11|        0|         52|     5|            0|                        0|    1|                  0|       0|    0|       0|              7|         4|     275|       17|   2|      2|    0|             0|100010| 9562.985335714286|\n",
      "|           474|242.91699209302305|               0|          6|  20|        5|          7|     5|            0|                        0|    3|                  0|       3|    0|       0|              8|         4|     387|       21|   2|      2|    0|             1|200002|13429.839419999995|\n",
      "|            11|261.13913750000006|               0|          0|   0|        0|          1|     0|            0|                        1|    0|                  0|       0|    0|       0|              0|         0|       8|        0|   0|      0|    0|             0|   125|2089.1131000000005|\n",
      "|          4825|248.17653659965674|               0|         41| 176|       41|          4|    59|            6|                        0|    7|                  0|      20|    0|       0|            118|        74|    4079|      171|  23|      0|    6|             0|   124|  31634.7528996875|\n",
      "|          2464|247.88055082899118|               0|         21|  75|       23|          0|    24|            1|                        1|    2|                  0|      12|    0|       0|             52|        28|    2111|      100|  12|      0|    1|             0|    51| 40251.98790769231|\n",
      "+--------------+------------------+----------------+-----------+----+---------+-----------+------+-------------+-------------------------+-----+-------------------+--------+-----+--------+---------------+----------+--------+---------+----+-------+-----+--------------+------+------------------+\n",
      "only showing top 5 rows\n",
      "\n"
     ]
    }
   ],
   "source": [
    "df_features.show(5)"
   ]
  },
  {
   "cell_type": "code",
   "execution_count": 33,
   "metadata": {},
   "outputs": [],
   "source": [
    "'''\n",
    "+--------------+------------------+------+----------------+-----------+----+---------+-----------+------+-------------+-------------------------+-----+-------------------+--------+-----+--------+---------------+----------+--------+---------+----+-------+-----+--------------+------+------------------+\n",
    "|Num Of Records|         AvgLength|Cancel|Submit Downgrade|Thumbs Down|Home|Downgrade|Roll Advert|Logout|Save Settings|Cancellation Confirmation|About|Submit Registration|Settings|Login|Register|Add to Playlist|Add Friend|NextSong|Thumbs Up|Help|Upgrade|Error|Submit Upgrade|userId|    DailyAvgLength|\n",
    "+--------------+------------------+------+----------------+-----------+----+---------+-----------+------+-------------+-------------------------+-----+-------------------+--------+-----+--------+---------------+----------+--------+---------+----+-------+-----+--------------+------+------------------+\n",
    "|           381|  243.421444909091|     0|               0|          5|  11|        0|         52|     5|            0|                        0|    1|                  0|       0|    0|       0|              7|         4|     275|       17|   2|      2|    0|             0|100010| 9562.985335714286|\n",
    "|           474|242.91699209302305|     0|               0|          6|  20|        5|          7|     5|            0|                        0|    3|                  0|       3|    0|       0|              8|         4|     387|       21|   2|      2|    0|             1|200002|13429.839419999995|\n",
    "|            11|261.13913750000006|     1|               0|          0|   0|        0|          1|     0|            0|                        1|    0|                  0|       0|    0|       0|              0|         0|       8|        0|   0|      0|    0|             0|   125|2089.1131000000005|\n",
    "|          4825|248.17653659965674|     0|               0|         41| 176|       41|          4|    59|            6|                        0|    7|                  0|      20|    0|       0|            118|        74|    4079|      171|  23|      0|    6|             0|   124|  31634.7528996875|\n",
    "|          2464|247.88055082899118|     1|               0|         21|  75|       23|          0|    24|            1|                        1|    2|                  0|      12|    0|       0|             52|        28|    2111|      100|  12|      0|    1|             0|    51| 40251.98790769231|\n",
    "+--------------+------------------+------+----------------+-----------+----+---------+-----------+------+-------------+-------------------------+-----+-------------------+--------+-----+--------+---------------+----------+--------+---------+----+-------+-----+--------------+------+------------------+\n",
    "only showing top 5 rows\n",
    "''';"
   ]
  },
  {
   "cell_type": "markdown",
   "metadata": {},
   "source": [
    "A quick check on the final data. For exampe, each user should cancel either once, or never."
   ]
  },
  {
   "cell_type": "code",
   "execution_count": 34,
   "metadata": {},
   "outputs": [
    {
     "name": "stdout",
     "output_type": "stream",
     "text": [
      "+-------------------------+\n",
      "|Cancellation Confirmation|\n",
      "+-------------------------+\n",
      "|                        0|\n",
      "|                        1|\n",
      "+-------------------------+\n",
      "\n"
     ]
    }
   ],
   "source": [
    "df_features.select(\"Cancellation Confirmation\").distinct().show(100)"
   ]
  },
  {
   "cell_type": "markdown",
   "metadata": {},
   "source": [
    "Check for resulting features data frame's duplicate and missing values status."
   ]
  },
  {
   "cell_type": "code",
   "execution_count": 35,
   "metadata": {},
   "outputs": [
    {
     "name": "stdout",
     "output_type": "stream",
     "text": [
      "226\n",
      "226\n"
     ]
    }
   ],
   "source": [
    "print(df_features.count())\n",
    "print(df_features.dropDuplicates().count())"
   ]
  },
  {
   "cell_type": "code",
   "execution_count": 36,
   "metadata": {},
   "outputs": [
    {
     "name": "stdout",
     "output_type": "stream",
     "text": [
      "+-------+------------------+------------------+-------------------+------------------+------------------+-----------------+------------------+------------------+------------------+-------------------------+------------------+--------------------+-----------------+------------------+-------------------+------------------+------------------+------------------+-----------------+------------------+------------------+------------------+------------------+------------------+------------------+\n",
      "|summary|    Num Of Records|         AvgLength|   Submit Downgrade|       Thumbs Down|              Home|        Downgrade|       Roll Advert|            Logout|     Save Settings|Cancellation Confirmation|             About| Submit Registration|         Settings|             Login|           Register|   Add to Playlist|        Add Friend|          NextSong|        Thumbs Up|              Help|           Upgrade|             Error|    Submit Upgrade|            userId|    DailyAvgLength|\n",
      "+-------+------------------+------------------+-------------------+------------------+------------------+-----------------+------------------+------------------+------------------+-------------------------+------------------+--------------------+-----------------+------------------+-------------------+------------------+------------------+------------------+-----------------+------------------+------------------+------------------+------------------+------------------+------------------+\n",
      "|  count|               226|               225|                226|               226|               226|              226|               226|               226|               226|                      226|               226|                 226|              226|               226|                226|               226|               226|               226|              226|               226|               226|               226|               226|               226|               225|\n",
      "|   mean|1267.6991150442477|248.94864818036018|0.27876106194690264|11.265486725663717|63.969026548672566|  9.0929203539823|17.402654867256636|14.274336283185841|1.3716814159292035|      0.23008849557522124| 4.088495575221239|0.022123893805309734|6.699115044247788| 14.34070796460177|0.07964601769911504|28.876106194690266|18.924778761061948|1009.3274336283185| 55.5353982300885|7.6371681415929205|2.2079646017699117|1.1415929203539823|0.7035398230088495|65391.013333333336|16037.557955051521|\n",
      "| stddev|1408.3554594551022| 5.941825608917774| 0.5866592919890465| 13.07007962170089| 291.8801792454937|11.72405858292471|21.533679915382134|15.341880393288388| 1.734331457570831|      0.42182354515228027|28.560441179948775|  0.3325950526188696|6.982371396916936|215.58811310755127| 1.1973421894279308|32.700834578099496|20.574819695598585|1104.5631691003189|65.43754331215067|19.084402914726017|2.5571039727845033|1.5047613713345942|0.7337488766346668|105396.47791907164| 7983.430784595365|\n",
      "|    min|                 6|225.18811730769232|                  0|                 0|                 0|                0|                 0|                 0|                 0|                        0|                 0|                   0|                0|                 0|                  0|                 0|                 0|                 0|                0|                 0|                 0|                 0|                 0|                  |         691.66884|\n",
      "|    max|              9632|267.76714199999986|                  3|                75|              4375|               73|               128|               124|                10|                        1|               429|                   5|               52|              3241|                 18|               240|               143|              8002|              437|               272|                15|                 7|                 4|                99| 40251.98790769231|\n",
      "+-------+------------------+------------------+-------------------+------------------+------------------+-----------------+------------------+------------------+------------------+-------------------------+------------------+--------------------+-----------------+------------------+-------------------+------------------+------------------+------------------+-----------------+------------------+------------------+------------------+------------------+------------------+------------------+\n",
      "\n"
     ]
    }
   ],
   "source": [
    "df_features.describe().show()"
   ]
  },
  {
   "cell_type": "code",
   "execution_count": 37,
   "metadata": {},
   "outputs": [],
   "source": [
    "'''\n",
    "+-------+------------------+------------------+-------------------+------------------+------------------+-----------------+------------------+------------------+------------------+-------------------------+------------------+--------------------+-----------------+------------------+-------------------+------------------+------------------+------------------+-----------------+------------------+------------------+------------------+------------------+------------------+------------------+\n",
    "|summary|    Num Of Records|         AvgLength|   Submit Downgrade|       Thumbs Down|              Home|        Downgrade|       Roll Advert|            Logout|     Save Settings|Cancellation Confirmation|             About| Submit Registration|         Settings|             Login|           Register|   Add to Playlist|        Add Friend|          NextSong|        Thumbs Up|              Help|           Upgrade|             Error|    Submit Upgrade|            userId|    DailyAvgLength|\n",
    "+-------+------------------+------------------+-------------------+------------------+------------------+-----------------+------------------+------------------+------------------+-------------------------+------------------+--------------------+-----------------+------------------+-------------------+------------------+------------------+------------------+-----------------+------------------+------------------+------------------+------------------+------------------+------------------+\n",
    "|  count|               226|               225|                226|               226|               226|              226|               226|               226|               226|                      226|               226|                 226|              226|               226|                226|               226|               226|               226|              226|               226|               226|               226|               226|               226|               225|\n",
    "|   mean|1267.6991150442477|248.94864818036018|0.27876106194690264|11.265486725663717|63.969026548672566|  9.0929203539823|17.402654867256636|14.274336283185841|1.3716814159292035|      0.23008849557522124| 4.088495575221239|0.022123893805309734|6.699115044247788| 14.34070796460177|0.07964601769911504|28.876106194690266|18.924778761061948|1009.3274336283185| 55.5353982300885|7.6371681415929205|2.2079646017699117|1.1415929203539823|0.7035398230088495|65391.013333333336|16037.557955051521|\n",
    "| stddev|1408.3554594551022| 5.941825608917774| 0.5866592919890465| 13.07007962170089| 291.8801792454937|11.72405858292471|21.533679915382134|15.341880393288388| 1.734331457570831|      0.42182354515228027|28.560441179948775|  0.3325950526188696|6.982371396916936|215.58811310755127| 1.1973421894279308|32.700834578099496|20.574819695598585|1104.5631691003189|65.43754331215067|19.084402914726017|2.5571039727845033|1.5047613713345942|0.7337488766346668|105396.47791907164| 7983.430784595365|\n",
    "|    min|                 6|225.18811730769232|                  0|                 0|                 0|                0|                 0|                 0|                 0|                        0|                 0|                   0|                0|                 0|                  0|                 0|                 0|                 0|                0|                 0|                 0|                 0|                 0|                  |         691.66884|\n",
    "|    max|              9632|267.76714199999986|                  3|                75|              4375|               73|               128|               124|                10|                        1|               429|                   5|               52|              3241|                 18|               240|               143|              8002|              437|               272|                15|                 7|                 4|                99| 40251.98790769231|\n",
    "+-------+------------------+------------------+-------------------+------------------+------------------+-----------------+------------------+------------------+------------------+-------------------------+------------------+--------------------+-----------------+------------------+-------------------+------------------+------------------+------------------+-----------------+------------------+------------------+------------------+------------------+------------------+------------------+\n",
    "''';"
   ]
  },
  {
   "cell_type": "code",
   "execution_count": 38,
   "metadata": {},
   "outputs": [
    {
     "name": "stdout",
     "output_type": "stream",
     "text": [
      "+--------------+---------+----------------+-----------+----+---------+-----------+------+-------------+-------------------------+-----+-------------------+--------+-----+--------+---------------+----------+--------+---------+----+-------+-----+--------------+------+--------------+\n",
      "|Num Of Records|AvgLength|Submit Downgrade|Thumbs Down|Home|Downgrade|Roll Advert|Logout|Save Settings|Cancellation Confirmation|About|Submit Registration|Settings|Login|Register|Add to Playlist|Add Friend|NextSong|Thumbs Up|Help|Upgrade|Error|Submit Upgrade|userId|DailyAvgLength|\n",
      "+--------------+---------+----------------+-----------+----+---------+-----------+------+-------------+-------------------------+-----+-------------------+--------+-----+--------+---------------+----------+--------+---------+----+-------+-----+--------------+------+--------------+\n",
      "|          8346|     null|               0|          0|4375|        0|          0|     0|            0|                        0|  429|                  5|       0| 3241|      18|              0|         0|       0|        0| 272|      0|    6|             0|      |          null|\n",
      "+--------------+---------+----------------+-----------+----+---------+-----------+------+-------------+-------------------------+-----+-------------------+--------+-----+--------+---------------+----------+--------+---------+----+-------+-----+--------------+------+--------------+\n",
      "\n"
     ]
    }
   ],
   "source": [
    "df_features.where(col('AvgLength').isNull()).show()"
   ]
  },
  {
   "cell_type": "code",
   "execution_count": 39,
   "metadata": {},
   "outputs": [],
   "source": [
    "'''\n",
    "+--------------+---------+----------------+-----------+----+---------+-----------+------+-------------+-------------------------+-----+-------------------+--------+-----+--------+---------------+----------+--------+---------+----+-------+-----+--------------+------+--------------+\n",
    "|Num Of Records|AvgLength|Submit Downgrade|Thumbs Down|Home|Downgrade|Roll Advert|Logout|Save Settings|Cancellation Confirmation|About|Submit Registration|Settings|Login|Register|Add to Playlist|Add Friend|NextSong|Thumbs Up|Help|Upgrade|Error|Submit Upgrade|userId|DailyAvgLength|\n",
    "+--------------+---------+----------------+-----------+----+---------+-----------+------+-------------+-------------------------+-----+-------------------+--------+-----+--------+---------------+----------+--------+---------+----+-------+-----+--------------+------+--------------+\n",
    "|          8346|     null|               0|          0|4375|        0|          0|     0|            0|                        0|  429|                  5|       0| 3241|      18|              0|         0|       0|        0| 272|      0|    6|             0|      |          null|\n",
    "+--------------+---------+----------------+-----------+----+---------+-----------+------+-------------+-------------------------+-----+-------------------+--------+-----+--------+---------------+----------+--------+---------+----+-------+-----+--------------+------+--------------+\n",
    "''';"
   ]
  },
  {
   "cell_type": "markdown",
   "metadata": {},
   "source": [
    "The data has one row where userId appears to be null, and hence has null AvgLength and DailyAvgLength. This row does not provide insight into the data and will cause modeling problem due to missing values. Hence we dropped this row."
   ]
  },
  {
   "cell_type": "code",
   "execution_count": 40,
   "metadata": {},
   "outputs": [],
   "source": [
    "df_features = df_features.filter(df_features.AvgLength.isNotNull())"
   ]
  },
  {
   "cell_type": "code",
   "execution_count": 41,
   "metadata": {},
   "outputs": [
    {
     "name": "stdout",
     "output_type": "stream",
     "text": [
      "+-------+-----------------+------------------+------------------+------------------+-----------------+------------------+------------------+------------------+------------------+-------------------------+------------------+-------------------+-----------------+-----+--------+------------------+------------------+------------------+------------------+------------------+------------------+------------------+------------------+------------------+------------------+\n",
      "|summary|   Num Of Records|         AvgLength|  Submit Downgrade|       Thumbs Down|             Home|         Downgrade|       Roll Advert|            Logout|     Save Settings|Cancellation Confirmation|             About|Submit Registration|         Settings|Login|Register|   Add to Playlist|        Add Friend|          NextSong|         Thumbs Up|              Help|           Upgrade|             Error|    Submit Upgrade|            userId|    DailyAvgLength|\n",
      "+-------+-----------------+------------------+------------------+------------------+-----------------+------------------+------------------+------------------+------------------+-------------------------+------------------+-------------------+-----------------+-----+--------+------------------+------------------+------------------+------------------+------------------+------------------+------------------+------------------+------------------+------------------+\n",
      "|  count|              225|               225|               225|               225|              225|               225|               225|               225|               225|                      225|               225|                225|              225|  225|     225|               225|               225|               225|               225|               225|               225|               225|               225|               225|               225|\n",
      "|   mean|          1236.24|248.94864818036018|              0.28|11.315555555555555|44.80888888888889| 9.133333333333333|             17.48|14.337777777777777|1.3777777777777778|       0.2311111111111111|               2.2|                0.0|6.728888888888889|  0.0|     0.0|29.004444444444445| 19.00888888888889|1013.8133333333334|55.782222222222224|6.4622222222222225|2.2177777777777776|              1.12|0.7066666666666667|65391.013333333336|16037.557955051521|\n",
      "| stddev|1329.531716432519| 5.941825608917774|0.5876709477736184|13.077481251105503|47.29612177463004|11.734412152785014|21.550207158434198|15.346347996360464|1.7357698077212964|       0.4224832108996327|3.1196382574174937|                0.0|6.983546422479099|  0.0|     0.0|32.716653931055426|20.581716728496275|1104.9607785540886| 65.47792460907043|7.2425851519011974|2.5585369082956606|1.4726070176973318|0.7338742593737899|105396.47791907164| 7983.430784595365|\n",
      "|    min|                6|225.18811730769232|                 0|                 0|                0|                 0|                 0|                 0|                 0|                        0|                 0|                  0|                0|    0|       0|                 0|                 0|                 3|                 0|                 0|                 0|                 0|                 0|                10|         691.66884|\n",
      "|    max|             9632|267.76714199999986|                 3|                75|              355|                73|               128|               124|                10|                        1|                25|                  0|               52|    0|       0|               240|               143|              8002|               437|                46|                15|                 7|                 4|                99| 40251.98790769231|\n",
      "+-------+-----------------+------------------+------------------+------------------+-----------------+------------------+------------------+------------------+------------------+-------------------------+------------------+-------------------+-----------------+-----+--------+------------------+------------------+------------------+------------------+------------------+------------------+------------------+------------------+------------------+------------------+\n",
      "\n"
     ]
    }
   ],
   "source": [
    "df_features.describe().show()"
   ]
  },
  {
   "cell_type": "code",
   "execution_count": 42,
   "metadata": {},
   "outputs": [],
   "source": [
    "'''\n",
    "+-------+-----------------+------------------+------------------+------------------+-----------------+------------------+------------------+------------------+------------------+-------------------------+------------------+-------------------+-----------------+-----+--------+------------------+------------------+------------------+------------------+------------------+------------------+------------------+------------------+------------------+------------------+\n",
    "|summary|   Num Of Records|         AvgLength|  Submit Downgrade|       Thumbs Down|             Home|         Downgrade|       Roll Advert|            Logout|     Save Settings|Cancellation Confirmation|             About|Submit Registration|         Settings|Login|Register|   Add to Playlist|        Add Friend|          NextSong|         Thumbs Up|              Help|           Upgrade|             Error|    Submit Upgrade|            userId|    DailyAvgLength|\n",
    "+-------+-----------------+------------------+------------------+------------------+-----------------+------------------+------------------+------------------+------------------+-------------------------+------------------+-------------------+-----------------+-----+--------+------------------+------------------+------------------+------------------+------------------+------------------+------------------+------------------+------------------+------------------+\n",
    "|  count|              225|               225|               225|               225|              225|               225|               225|               225|               225|                      225|               225|                225|              225|  225|     225|               225|               225|               225|               225|               225|               225|               225|               225|               225|               225|\n",
    "|   mean|          1236.24|248.94864818036018|              0.28|11.315555555555555|44.80888888888889| 9.133333333333333|             17.48|14.337777777777777|1.3777777777777778|       0.2311111111111111|               2.2|                0.0|6.728888888888889|  0.0|     0.0|29.004444444444445| 19.00888888888889|1013.8133333333334|55.782222222222224|6.4622222222222225|2.2177777777777776|              1.12|0.7066666666666667|65391.013333333336|16037.557955051521|\n",
    "| stddev|1329.531716432519| 5.941825608917774|0.5876709477736184|13.077481251105503|47.29612177463004|11.734412152785014|21.550207158434198|15.346347996360464|1.7357698077212964|       0.4224832108996327|3.1196382574174937|                0.0|6.983546422479099|  0.0|     0.0|32.716653931055426|20.581716728496275|1104.9607785540886| 65.47792460907043|7.2425851519011974|2.5585369082956606|1.4726070176973318|0.7338742593737899|105396.47791907164| 7983.430784595365|\n",
    "|    min|                6|225.18811730769232|                 0|                 0|                0|                 0|                 0|                 0|                 0|                        0|                 0|                  0|                0|    0|       0|                 0|                 0|                 3|                 0|                 0|                 0|                 0|                 0|                10|         691.66884|\n",
    "|    max|             9632|267.76714199999986|                 3|                75|              355|                73|               128|               124|                10|                        1|                25|                  0|               52|    0|       0|               240|               143|              8002|               437|                46|                15|                 7|                 4|                99| 40251.98790769231|\n",
    "+-------+-----------------+------------------+------------------+------------------+-----------------+------------------+------------------+------------------+------------------+-------------------------+------------------+-------------------+-----------------+-----+--------+------------------+------------------+------------------+------------------+------------------+------------------+------------------+------------------+------------------+------------------+\n",
    "\n",
    "''';"
   ]
  },
  {
   "cell_type": "markdown",
   "metadata": {},
   "source": [
    "# Modeling\n",
    "Split the full dataset into train, test, and validation sets. Test out several of the machine learning methods you learned. Evaluate the accuracy of the various models, tuning parameters as necessary. Determine your winning model based on test accuracy and report results on the validation set. Since the churned users are a fairly small subset, I suggest using F1 score as the metric to optimize."
   ]
  },
  {
   "cell_type": "markdown",
   "metadata": {},
   "source": [
    "### Prepare and Split the data"
   ]
  },
  {
   "cell_type": "code",
   "execution_count": 43,
   "metadata": {},
   "outputs": [],
   "source": [
    "df_features = df_features.withColumnRenamed(\"Cancellation Confirmation\", \"label\")\n",
    "\n",
    "assembler = VectorAssembler(\n",
    "    inputCols=[c for c in df_features.columns if c not in [\"label\", \"userId\"]],\n",
    "    outputCol=\"features\")\n",
    "\n",
    "data = assembler.transform(df_features)\n",
    "Train, Test = data.randomSplit([0.80, 0.20], seed=42)"
   ]
  },
  {
   "cell_type": "code",
   "execution_count": 69,
   "metadata": {},
   "outputs": [],
   "source": [
    "def fit_model(model, params, Train):\n",
    "    model_eval = CrossValidator(estimator=model, \\\n",
    "                                estimatorParamMaps=params, \\\n",
    "                                #evaluator=BinaryClassificationEvaluator())\n",
    "                                evaluator=MulticlassClassificationEvaluator())\n",
    "    fitted_model = model_eval.fit(Train)\n",
    "\n",
    "    return fitted_model\n",
    "\n",
    "def pred_scoring(fitted_model, data):\n",
    "\n",
    "    res = fitted_model.transform(data).select('label', 'prediction')\n",
    "    TruePos = res.filter((res.prediction==1) & (res.label == res.prediction) ).count()\n",
    "    TrueNeg = res.filter((res.prediction==0) & (res.label == res.prediction) ).count()\n",
    "    FalsPos = res.filter((res.prediction==1) & (res.label != res.prediction) ).count()\n",
    "    FalsNeg = res.filter((res.prediction==0) & (res.label != res.prediction) ).count()\n",
    "    accuracy = res.filter(res.label == res.prediction).count()/res.count()\n",
    "    precision = TruePos/(TruePos+FalsPos) if TruePos+FalsPos!=0.0 else 1.0\n",
    "    recall = TruePos/(TruePos+FalsNeg)\n",
    "    f1score = 2 * precision * recall / (precision + recall) if (precision + recall)!=0.0 else 1.0\n",
    "    return accuracy, precision, recall, f1score\n"
   ]
  },
  {
   "cell_type": "code",
   "execution_count": 58,
   "metadata": {},
   "outputs": [],
   "source": [
    "def plot_important_features(fitted_model, df_features):\n",
    "    importance = list(fitted_model.bestModel.featureImportances.toArray())\n",
    "    features_list = [c for c in df_features.columns if c not in [\"label\", \"userId\"]]\n",
    "    \n",
    "    y_pos = np.arange(len(features_list))\n",
    "    \n",
    "    #plt.figure(figsize=(20, 3))\n",
    "    plt.bar(y_pos, importance, align='center', alpha=0.5) #, width=0.5)\n",
    "    plt.xticks(y_pos, features_list, rotation=90)\n",
    "    plt.ylabel('Features weights')\n",
    "    plt.title('Important features')\n",
    "\n",
    "    plt.show()\n"
   ]
  },
  {
   "cell_type": "markdown",
   "metadata": {},
   "source": [
    "## Model 1 testing and reporting\n",
    "\n",
    "Using Decision Tree Classifier."
   ]
  },
  {
   "cell_type": "code",
   "execution_count": 47,
   "metadata": {},
   "outputs": [],
   "source": [
    "model = DecisionTreeClassifier(labelCol=\"label\", featuresCol=\"features\")\n",
    "params = ParamGridBuilder().addGrid(model.maxDepth, [2, 5, 10]).build()\n",
    "fitted_model = fit_model(model, params, Train)"
   ]
  },
  {
   "cell_type": "code",
   "execution_count": 48,
   "metadata": {},
   "outputs": [
    {
     "name": "stdout",
     "output_type": "stream",
     "text": [
      "Score of Training data:\n",
      "Accurarcy: 0.91\n",
      "Precision: 0.91\n",
      "Recall :0.91\n",
      "F1 score: 0.91\n"
     ]
    }
   ],
   "source": [
    "accuracy, precision, recall, f1score = pred_scoring(fitted_model, Train)\n",
    "print(\"Score of Training data:\\nAccurarcy: {0:.2f}\\nPrecision: {0:.2f}\\nRecall :{0:.2f}\\nF1 score: {0:.2f}\".format(accuracy, precision, recall, f1score))"
   ]
  },
  {
   "cell_type": "code",
   "execution_count": 49,
   "metadata": {},
   "outputs": [
    {
     "name": "stdout",
     "output_type": "stream",
     "text": [
      "Score of Testing data:\n",
      "Accurarcy: 0.68\n",
      "Precision: 0.68\n",
      "Recall :0.68\n",
      "F1 score: 0.68\n"
     ]
    }
   ],
   "source": [
    "accuracy, precision, recall, f1score = pred_scoring(fitted_model, Test)\n",
    "print(\"Score of Testing data:\\nAccurarcy: {0:.2f}\\nPrecision: {0:.2f}\\nRecall :{0:.2f}\\nF1 score: {0:.2f}\".format(accuracy, precision, recall, f1score))"
   ]
  },
  {
   "cell_type": "code",
   "execution_count": 59,
   "metadata": {},
   "outputs": [
    {
     "data": {
      "image/png": "[encoded data removed]",
      "text/plain": [
       "<matplotlib.figure.Figure at 0x7f5d98a25da0>"
      ]
     },
     "metadata": {
      "needs_background": "light"
     },
     "output_type": "display_data"
    }
   ],
   "source": [
    "plot_important_features(fitted_model, df_features)"
   ]
  },
  {
   "cell_type": "markdown",
   "metadata": {},
   "source": [
    "### Model 2 testing and reporting\n",
    "\n",
    "Using Random Forest Classifier."
   ]
  },
  {
   "cell_type": "code",
   "execution_count": 60,
   "metadata": {},
   "outputs": [],
   "source": [
    "model = RandomForestClassifier(labelCol=\"label\", featuresCol=\"features\")\n",
    "params = ParamGridBuilder().addGrid(model.maxDepth, [2, 5, 10]).addGrid(model.numTrees, [5, 10]).build()\n",
    "fitted_model = fit_model(model, params, Train)"
   ]
  },
  {
   "cell_type": "code",
   "execution_count": 61,
   "metadata": {},
   "outputs": [
    {
     "name": "stdout",
     "output_type": "stream",
     "text": [
      "Score of Training data:\n",
      "Accurarcy: 0.97\n",
      "Precision: 0.97\n",
      "Recall :0.97\n",
      "F1 score: 0.97\n"
     ]
    }
   ],
   "source": [
    "accuracy, precision, recall, f1score = pred_scoring(fitted_model, Train)\n",
    "print(\"Score of Training data:\\nAccurarcy: {0:.2f}\\nPrecision: {0:.2f}\\nRecall :{0:.2f}\\nF1 score: {0:.2f}\".format(accuracy, precision, recall, f1score))"
   ]
  },
  {
   "cell_type": "code",
   "execution_count": 64,
   "metadata": {},
   "outputs": [
    {
     "name": "stdout",
     "output_type": "stream",
     "text": [
      "Score of Testing data:\n",
      "Accurarcy: 0.68\n",
      "Precision: 0.68\n",
      "Recall :0.68\n",
      "F1 score: 0.68\n"
     ]
    }
   ],
   "source": [
    "accuracy, precision, recall, f1score = pred_scoring(fitted_model, Test)\n",
    "print(\"Score of Testing data:\\nAccurarcy: {0:.2f}\\nPrecision: {0:.2f}\\nRecall :{0:.2f}\\nF1 score: {0:.2f}\".format(accuracy, precision, recall, f1score))"
   ]
  },
  {
   "cell_type": "code",
   "execution_count": 65,
   "metadata": {},
   "outputs": [
    {
     "data": {
      "image/png": "[encoded data removed]",
      "text/plain": [
       "<matplotlib.figure.Figure at 0x7f5d986f7160>"
      ]
     },
     "metadata": {
      "needs_background": "light"
     },
     "output_type": "display_data"
    }
   ],
   "source": [
    "plot_important_features(fitted_model, df_features)"
   ]
  },
  {
   "cell_type": "markdown",
   "metadata": {},
   "source": [
    "### Model 3 testing and reporting\n",
    "\n",
    "Using Gradient-Boosted Tree classifier."
   ]
  },
  {
   "cell_type": "code",
   "execution_count": 66,
   "metadata": {},
   "outputs": [],
   "source": [
    "model = GBTClassifier(labelCol=\"label\", featuresCol=\"features\")\n",
    "params = ParamGridBuilder().addGrid(model.maxDepth, [2, 5, 10]).addGrid(model.maxIter, [5, 10]).build()\n",
    "fitted_model = fit_model(model, params, Train)"
   ]
  },
  {
   "cell_type": "code",
   "execution_count": 67,
   "metadata": {},
   "outputs": [
    {
     "name": "stdout",
     "output_type": "stream",
     "text": [
      "Score of Training data:\n",
      "Accurarcy: 0.79\n",
      "Precision: 0.79\n",
      "Recall :0.79\n",
      "F1 score: 0.79\n"
     ]
    }
   ],
   "source": [
    "accuracy, precision, recall, f1score = pred_scoring(fitted_model, Train)\n",
    "print(\"Score of Training data:\\nAccurarcy: {0:.2f}\\nPrecision: {0:.2f}\\nRecall :{0:.2f}\\nF1 score: {0:.2f}\".format(accuracy, precision, recall, f1score))"
   ]
  },
  {
   "cell_type": "code",
   "execution_count": 70,
   "metadata": {},
   "outputs": [
    {
     "name": "stdout",
     "output_type": "stream",
     "text": [
      "Score of Testing data:\n",
      "Accurarcy: 0.71\n",
      "Precision: 0.71\n",
      "Recall :0.71\n",
      "F1 score: 0.71\n"
     ]
    }
   ],
   "source": [
    "accuracy, precision, recall, f1score = pred_scoring(fitted_model, Test)\n",
    "print(\"Score of Testing data:\\nAccurarcy: {0:.2f}\\nPrecision: {0:.2f}\\nRecall :{0:.2f}\\nF1 score: {0:.2f}\".format(accuracy, precision, recall, f1score))"
   ]
  },
  {
   "cell_type": "code",
   "execution_count": 71,
   "metadata": {},
   "outputs": [
    {
     "data": {
      "image/png": "[encoded data removed]",
      "text/plain": [
       "<matplotlib.figure.Figure at 0x7f5d98ac9780>"
      ]
     },
     "metadata": {
      "needs_background": "light"
     },
     "output_type": "display_data"
    }
   ],
   "source": [
    "plot_important_features(fitted_model, df_features)"
   ]
  },
  {
   "cell_type": "markdown",
   "metadata": {},
   "source": [
    "# Conclusion\n",
    "\n",
    "- Of the three models tested, we found Gradient-Boosted Tree has best overall scoring, achieving F1 scores of 0.79 on training and 0.71 for testing. Decision Tree and Random Forest both achieved very high training score and a bit subpar testing score of 0.69 for both models.\n",
    "- The most important features of the best performing model, Gradient-Boosted Tree, are:\n",
    "  1. Logout: This is certainly surprising. Why logging out lead to high churn rate. It might be explained that when user deliberately logout of service, when most users usually just close browser out of convenience, is an indication that user might feel negatively about the service. Although the reason is unknown, this gives us good early warning.\n",
    "  2. Daily Averge Length: This is what we expected in the initial analysis, the more time user spent on the service, is an indiciation stickness of user to the service.\n",
    "  3. Thumbs Down: Like Logout, this could be an indication that user has negative reaction to the service.\n",
    "  \n",
    "In addition to provide prediction of churn, the important features analysis give additional insight to look for earning warning that user might not be happy about the service, and could be analyed further, to help improve the service to reduce churn rate.\n",
    "  \n",
    "## Improvments\n",
    "- When performing EDA, we did not have deep semantics understanding about the action user take. If this information can be obtained, we will further filter out irrevalent actions. And re-fit the models.\n",
    "- Further grid search on more parameters could be possible to enhance the models.\n",
    "- This mini dataset have only 225 unique users to analyze the train data against. If more data can be obtained, it will certainly increase the fitness of the models."
   ]
  },
  {
   "cell_type": "markdown",
   "metadata": {},
   "source": [
    "# Final Steps\n",
    "Clean up your code, adding comments and renaming variables to make the code easier to read and maintain. Refer to the Spark Project Overview page and Data Scientist Capstone Project Rubric to make sure you are including all components of the capstone project and meet all expectations. Remember, this includes thorough documentation in a README file in a Github repository, as well as a web app or blog post."
   ]
  },
  {
   "cell_type": "code",
   "execution_count": null,
   "metadata": {},
   "outputs": [],
   "source": []
  },
  {
   "cell_type": "markdown",
   "metadata": {},
   "source": [
    "# References\n",
    "\n",
    "1. [Handling Missing Values in Spark](https://www.coursera.org/lecture/big-data-machine-learning/handling-missing-values-in-spark-Goh1z)\n",
    "2. [Count the number of missing values in a dataframe Spark](https://stackoverflow.com/questions/44413132/count-the-number-of-missing-values-in-a-dataframe-spark)\n",
    "3. [Convert rows into Dictionary in pyspark](https://stackoverflow.com/questions/49432167/convert-rows-into-dictionary-in-pyspark)\n",
    "4. [aggregate function Count usage with groupBy in Spark](https://stackoverflow.com/questions/41890485/aggregate-function-count-usage-with-groupby-in-spark/41890813)\n",
    "5. [how to get unique values of a column in pyspark dataframe](https://forums.databricks.com/questions/9655/how-to-get-unique-values-of-a-column-in-pyspark-da.html)\n",
    "6. [pyspark.sql module](https://spark.apache.org/docs/latest/api/python/pyspark.sql.html)\n",
    "7. [Parsing epoch milliseconds from json with Spark 2](https://stackoverflow.com/questions/44314199/parsing-epoch-milliseconds-from-json-with-spark-2)\n",
    "8. [Spark dataframe: collect () vs select ()](https://stackoverflow.com/questions/44174747/spark-dataframe-collect-vs-select)\n",
    "9. [Spark ML Tuning: model selection and hyperparameter tuning](https://spark.apache.org/docs/latest/ml-tuning.html)\n",
    "10. [Spark Classification and regression](https://spark.apache.org/docs/latest/ml-classification-regression.html)\n",
    "11. [Spark Extracting, transforming and selecting features](https://spark.apache.org/docs/latest/ml-features.html#vectorassembler)\n",
    "12. [How to split columns into label and features in pyspark?](https://stackoverflow.com/questions/54662701/how-to-split-columns-into-label-and-features-in-pyspark)\n",
    "13. [Spark Evaluation Metrics - RDD-based API](https://spark.apache.org/docs/2.2.0/mllib-evaluation-metrics.html)\n",
    "\n"
   ]
  },
  {
   "cell_type": "code",
   "execution_count": null,
   "metadata": {},
   "outputs": [],
   "source": []
  }
 ],
 "metadata": {
  "kernelspec": {
   "display_name": "Python 3",
   "language": "python",
   "name": "python3"
  },
  "language_info": {
   "codemirror_mode": {
    "name": "ipython",
    "version": 3
   },
   "file_extension": ".py",
   "mimetype": "text/x-python",
   "name": "python",
   "nbconvert_exporter": "python",
   "pygments_lexer": "ipython3",
   "version": "3.6.3"
  }
 },
 "nbformat": 4,
 "nbformat_minor": 2
}
